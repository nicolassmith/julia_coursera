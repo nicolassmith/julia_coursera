{
 "cells": [
  {
   "cell_type": "code",
   "execution_count": 18,
   "metadata": {},
   "outputs": [],
   "source": [
    "mylist = [3, 2, 1]\n",
    "count=1\n",
    "for i in mylist\n",
    "  mylist[i]=count\n",
    "  count=count+1\n",
    "end"
   ]
  },
  {
   "cell_type": "code",
   "execution_count": 19,
   "metadata": {},
   "outputs": [
    {
     "data": {
      "text/plain": [
       "3-element Array{Int64,1}:\n",
       " 3\n",
       " 2\n",
       " 1"
      ]
     },
     "execution_count": 19,
     "metadata": {},
     "output_type": "execute_result"
    }
   ],
   "source": [
    "mylist"
   ]
  },
  {
   "cell_type": "code",
   "execution_count": 20,
   "metadata": {},
   "outputs": [
    {
     "data": {
      "text/plain": [
       "2"
      ]
     },
     "execution_count": 20,
     "metadata": {},
     "output_type": "execute_result"
    }
   ],
   "source": [
    "function test(x)\n",
    "    if x==1 \n",
    "        return 1\n",
    "    end\n",
    "    if x<=0\n",
    "        return 0\n",
    "    end\n",
    "    return test(x-1)+test(x-2)\n",
    "end\n",
    "test(3)"
   ]
  },
  {
   "cell_type": "code",
   "execution_count": 21,
   "metadata": {},
   "outputs": [
    {
     "name": "stdout",
     "output_type": "stream",
     "text": [
      "1\n",
      "3\n",
      "5\n"
     ]
    },
    {
     "data": {
      "text/plain": [
       "12"
      ]
     },
     "execution_count": 21,
     "metadata": {},
     "output_type": "execute_result"
    }
   ],
   "source": [
    "summedvals = 3\n",
    "for k = 1:2:5  \n",
    "  println(k)\n",
    "  summedvals = summedvals + k\n",
    "end\n",
    "summedvals"
   ]
  },
  {
   "cell_type": "code",
   "execution_count": 22,
   "metadata": {},
   "outputs": [
    {
     "data": {
      "text/plain": [
       "Symbol"
      ]
     },
     "execution_count": 22,
     "metadata": {},
     "output_type": "execute_result"
    }
   ],
   "source": [
    "x = :foo\n",
    "\n",
    "typeof(x)"
   ]
  },
  {
   "cell_type": "code",
   "execution_count": 23,
   "metadata": {},
   "outputs": [],
   "source": [
    "using Plots\n",
    "using Plots"
   ]
  },
  {
   "cell_type": "code",
   "execution_count": 24,
   "metadata": {},
   "outputs": [
    {
     "name": "stdout",
     "output_type": "stream",
     "text": [
      "(-5, 36)\n",
      "(-4, 15)\n",
      "(-3, 0)\n",
      "(-2, -9)\n",
      "(-1, -12)\n",
      "(0, -9)\n",
      "(1, 0)\n",
      "(2, 15)\n",
      "(3, 36)\n",
      "(4, 63)\n",
      "(5, 96)\n"
     ]
    },
    {
     "data": {
      "application/vnd.plotly.v1+json": {
       "data": [
        {
         "colorbar": {
          "title": ""
         },
         "line": {
          "color": "rgba(0, 154, 250, 1.000)",
          "dash": "solid",
          "shape": "linear",
          "width": 1
         },
         "mode": "lines",
         "name": "y1",
         "showlegend": true,
         "type": "scatter",
         "x": [
          -3.9829098167153707,
          -3.9658196334307414,
          -3.9487294501461125,
          -3.9316392668614832,
          -3.7736158451014603,
          -3.615592423341437,
          -3.4575690015814136,
          -3.29954557982139,
          -3.1096146003410117,
          -2.919683620860633,
          -2.7590993949251366,
          -2.59851516898964,
          -2.4240756893791398,
          -2.24963620976864,
          -2.0888184390131213,
          -1.9280006682576027,
          -1.755587021706087,
          -1.5831733751545711,
          -1.3834152573924225,
          -1.183657139630274,
          -1.006135698426562,
          -0.8286142572228499,
          -0.6729439507206549,
          -0.5172736442184599,
          -0.3475512238156118,
          -0.17782880341276378,
          -0.007097676071539535,
          0.1636334512696847,
          0.35239854482025734,
          0.5411636383708299,
          0.7207688617923671,
          0.9003740852139043,
          1.087121844896679,
          1.2738696045794538,
          1.4310714401236848,
          1.5882732756679159,
          1.7801988987862323,
          1.9721245219045487,
          2.152540268402754,
          2.3329560149009594,
          2.6219960315066895,
          2.9110360481124196,
          2.95551802405621
         ],
         "xaxis": "x1",
         "y": [
          14.693252923970778,
          14.38825829412977,
          14.085016110476989,
          13.783526373012407,
          11.078834568593663,
          8.523971175123393,
          6.118936192601598,
          3.863729621028284,
          1.3514212859158974,
          -0.9444443873982244,
          -2.716707956322054,
          -4.334247763530067,
          -5.916025292757981,
          -7.315228029705203,
          -8.443423220595092,
          -9.416444279140327,
          -10.287264757887975,
          -10.979726443532478,
          -11.558978221196107,
          -11.898810165188479,
          -11.999887059614455,
          -11.911880781518173,
          -11.67910302188936,
          -11.300925796301623,
          -10.722931783366482,
          -9.972103570506937,
          -9.042434925412389,
          -7.937871573258607,
          -6.513054527904151,
          -4.874443919290758,
          -3.1168635728574037,
          -1.1657350087422493,
          1.068232786334752,
          3.5114489358909644,
          5.73032504095514,
          8.097475648610171,
          11.188517750436535,
          14.500572521119025,
          17.815530431702722,
          21.32578739179345,
          27.356565756750626,
          33.88860890890443,
          34.93836851590063
         ],
         "yaxis": "y1"
        },
        {
         "colorbar": {
          "title": ""
         },
         "line": {
          "color": "rgba(227, 111, 71, 1.000)",
          "dash": "solid",
          "shape": "linear",
          "width": 1
         },
         "mode": "lines",
         "name": "y2",
         "showlegend": true,
         "type": "scatter",
         "x": [
          -3.9316392668614832,
          -3.29954557982139,
          -2.919683620860633,
          -2.59851516898964,
          -2.24963620976864,
          -1.9280006682576027,
          -1.5831733751545711,
          -1.183657139630274,
          -0.8286142572228499,
          -0.5172736442184599,
          -0.17782880341276378,
          0.1636334512696847,
          0.5411636383708299,
          0.9003740852139043,
          1.2738696045794538,
          1.5882732756679159,
          1.9721245219045487,
          2.3329560149009594,
          2.9110360481124196
         ],
         "xaxis": "x1",
         "y": [
          0,
          0,
          0,
          0,
          0,
          0,
          0,
          0,
          0,
          0,
          0,
          0,
          0,
          0,
          0,
          0,
          0,
          0,
          0
         ],
         "yaxis": "y1"
        }
       ],
       "layout": {
        "annotations": [],
        "height": 400,
        "legend": {
         "bgcolor": "rgba(255, 255, 255, 1.000)",
         "bordercolor": "rgba(0, 0, 0, 1.000)",
         "font": {
          "color": "rgba(0, 0, 0, 1.000)",
          "family": "sans-serif",
          "size": 11
         },
         "x": 1,
         "y": 1
        },
        "margin": {
         "b": 20,
         "l": 0,
         "r": 0,
         "t": 20
        },
        "paper_bgcolor": "rgba(255, 255, 255, 1.000)",
        "plot_bgcolor": "rgba(255, 255, 255, 1.000)",
        "showlegend": true,
        "width": 600,
        "xaxis1": {
         "anchor": "y1",
         "domain": [
          0.05100612423447069,
          0.9934383202099737
         ],
         "gridcolor": "rgba(0, 0, 0, 0.100)",
         "gridwidth": 0.5,
         "linecolor": "rgba(0, 0, 0, 1.000)",
         "mirror": false,
         "range": [
          -3.9829098167153707,
          2.95551802405621
         ],
         "showgrid": true,
         "showline": true,
         "showticklabels": true,
         "tickangle": 0,
         "tickcolor": "rgb(0, 0, 0)",
         "tickfont": {
          "color": "rgba(0, 0, 0, 1.000)",
          "family": "sans-serif",
          "size": 11
         },
         "tickmode": "array",
         "ticks": "inside",
         "ticktext": [
          "-3",
          "-2",
          "-1",
          "0",
          "1",
          "2"
         ],
         "tickvals": [
          -3,
          -2,
          -1,
          0,
          1,
          2
         ],
         "title": "",
         "titlefont": {
          "color": "rgba(0, 0, 0, 1.000)",
          "family": "sans-serif",
          "size": 15
         },
         "type": "-",
         "visible": true,
         "zeroline": false,
         "zerolinecolor": "rgba(0, 0, 0, 1.000)"
        },
        "yaxis1": {
         "anchor": "x1",
         "domain": [
          0.03762029746281716,
          0.9901574803149606
         ],
         "gridcolor": "rgba(0, 0, 0, 0.100)",
         "gridwidth": 0.5,
         "linecolor": "rgba(0, 0, 0, 1.000)",
         "mirror": false,
         "range": [
          -11.999887059614455,
          34.93836851590063
         ],
         "showgrid": true,
         "showline": true,
         "showticklabels": true,
         "tickangle": 0,
         "tickcolor": "rgb(0, 0, 0)",
         "tickfont": {
          "color": "rgba(0, 0, 0, 1.000)",
          "family": "sans-serif",
          "size": 11
         },
         "tickmode": "array",
         "ticks": "inside",
         "ticktext": [
          "-10",
          "0",
          "10",
          "20",
          "30"
         ],
         "tickvals": [
          -10,
          0,
          10,
          20,
          30
         ],
         "title": "",
         "titlefont": {
          "color": "rgba(0, 0, 0, 1.000)",
          "family": "sans-serif",
          "size": 15
         },
         "type": "-",
         "visible": true,
         "zeroline": false,
         "zerolinecolor": "rgba(0, 0, 0, 1.000)"
        }
       }
      },
      "text/html": [
       "<script src=\"file:///home/nicolas/.julia/v0.6/Plots/src/backends/../../deps/plotly-latest.min.js\"></script>    <div id=\"9996ec74-49d0-42f2-8c22-e57d5d1ad649\" style=\"width:600px;height:400px;\"></div>\n",
       "    <script>\n",
       "    PLOT = document.getElementById('9996ec74-49d0-42f2-8c22-e57d5d1ad649');\n",
       "    Plotly.plot(PLOT, [{\"showlegend\":true,\"mode\":\"lines\",\"xaxis\":\"x1\",\"colorbar\":{\"title\":\"\"},\"line\":{\"color\":\"rgba(0, 154, 250, 1.000)\",\"shape\":\"linear\",\"dash\":\"solid\",\"width\":1},\"y\":[14.693252923970778,14.38825829412977,14.085016110476989,13.783526373012407,11.078834568593663,8.523971175123393,6.118936192601598,3.863729621028284,1.3514212859158974,-0.9444443873982244,-2.716707956322054,-4.334247763530067,-5.916025292757981,-7.315228029705203,-8.443423220595092,-9.416444279140327,-10.287264757887975,-10.979726443532478,-11.558978221196107,-11.898810165188479,-11.999887059614455,-11.911880781518173,-11.67910302188936,-11.300925796301623,-10.722931783366482,-9.972103570506937,-9.042434925412389,-7.937871573258607,-6.513054527904151,-4.874443919290758,-3.1168635728574037,-1.1657350087422493,1.068232786334752,3.5114489358909644,5.73032504095514,8.097475648610171,11.188517750436535,14.500572521119025,17.815530431702722,21.32578739179345,27.356565756750626,33.88860890890443,34.93836851590063],\"type\":\"scatter\",\"name\":\"y1\",\"yaxis\":\"y1\",\"x\":[-3.9829098167153707,-3.9658196334307414,-3.9487294501461125,-3.9316392668614832,-3.7736158451014603,-3.615592423341437,-3.4575690015814136,-3.29954557982139,-3.1096146003410117,-2.919683620860633,-2.7590993949251366,-2.59851516898964,-2.4240756893791398,-2.24963620976864,-2.0888184390131213,-1.9280006682576027,-1.755587021706087,-1.5831733751545711,-1.3834152573924225,-1.183657139630274,-1.006135698426562,-0.8286142572228499,-0.6729439507206549,-0.5172736442184599,-0.3475512238156118,-0.17782880341276378,-0.007097676071539535,0.1636334512696847,0.35239854482025734,0.5411636383708299,0.7207688617923671,0.9003740852139043,1.087121844896679,1.2738696045794538,1.4310714401236848,1.5882732756679159,1.7801988987862323,1.9721245219045487,2.152540268402754,2.3329560149009594,2.6219960315066895,2.9110360481124196,2.95551802405621]},{\"showlegend\":true,\"mode\":\"lines\",\"xaxis\":\"x1\",\"colorbar\":{\"title\":\"\"},\"line\":{\"color\":\"rgba(227, 111, 71, 1.000)\",\"shape\":\"linear\",\"dash\":\"solid\",\"width\":1},\"y\":[0.0,0.0,0.0,0.0,0.0,0.0,0.0,0.0,0.0,0.0,0.0,0.0,0.0,0.0,0.0,0.0,0.0,0.0,0.0],\"type\":\"scatter\",\"name\":\"y2\",\"yaxis\":\"y1\",\"x\":[-3.9316392668614832,-3.29954557982139,-2.919683620860633,-2.59851516898964,-2.24963620976864,-1.9280006682576027,-1.5831733751545711,-1.183657139630274,-0.8286142572228499,-0.5172736442184599,-0.17782880341276378,0.1636334512696847,0.5411636383708299,0.9003740852139043,1.2738696045794538,1.5882732756679159,1.9721245219045487,2.3329560149009594,2.9110360481124196]}], {\"showlegend\":true,\"paper_bgcolor\":\"rgba(255, 255, 255, 1.000)\",\"xaxis1\":{\"showticklabels\":true,\"gridwidth\":0.5,\"tickvals\":[-3.0,-2.0,-1.0,0.0,1.0,2.0],\"visible\":true,\"ticks\":\"inside\",\"range\":[-3.9829098167153707,2.95551802405621],\"domain\":[0.05100612423447069,0.9934383202099737],\"tickmode\":\"array\",\"linecolor\":\"rgba(0, 0, 0, 1.000)\",\"showgrid\":true,\"title\":\"\",\"mirror\":false,\"tickangle\":0,\"showline\":true,\"gridcolor\":\"rgba(0, 0, 0, 0.100)\",\"titlefont\":{\"color\":\"rgba(0, 0, 0, 1.000)\",\"family\":\"sans-serif\",\"size\":15},\"tickcolor\":\"rgb(0, 0, 0)\",\"ticktext\":[\"-3\",\"-2\",\"-1\",\"0\",\"1\",\"2\"],\"zeroline\":false,\"type\":\"-\",\"tickfont\":{\"color\":\"rgba(0, 0, 0, 1.000)\",\"family\":\"sans-serif\",\"size\":11},\"zerolinecolor\":\"rgba(0, 0, 0, 1.000)\",\"anchor\":\"y1\"},\"annotations\":[],\"height\":400,\"margin\":{\"l\":0,\"b\":20,\"r\":0,\"t\":20},\"plot_bgcolor\":\"rgba(255, 255, 255, 1.000)\",\"yaxis1\":{\"showticklabels\":true,\"gridwidth\":0.5,\"tickvals\":[-10.0,0.0,10.0,20.0,30.0],\"visible\":true,\"ticks\":\"inside\",\"range\":[-11.999887059614455,34.93836851590063],\"domain\":[0.03762029746281716,0.9901574803149606],\"tickmode\":\"array\",\"linecolor\":\"rgba(0, 0, 0, 1.000)\",\"showgrid\":true,\"title\":\"\",\"mirror\":false,\"tickangle\":0,\"showline\":true,\"gridcolor\":\"rgba(0, 0, 0, 0.100)\",\"titlefont\":{\"color\":\"rgba(0, 0, 0, 1.000)\",\"family\":\"sans-serif\",\"size\":15},\"tickcolor\":\"rgb(0, 0, 0)\",\"ticktext\":[\"-10\",\"0\",\"10\",\"20\",\"30\"],\"zeroline\":false,\"type\":\"-\",\"tickfont\":{\"color\":\"rgba(0, 0, 0, 1.000)\",\"family\":\"sans-serif\",\"size\":11},\"zerolinecolor\":\"rgba(0, 0, 0, 1.000)\",\"anchor\":\"x1\"},\"legend\":{\"bordercolor\":\"rgba(0, 0, 0, 1.000)\",\"bgcolor\":\"rgba(255, 255, 255, 1.000)\",\"font\":{\"color\":\"rgba(0, 0, 0, 1.000)\",\"family\":\"sans-serif\",\"size\":11},\"y\":1.0,\"x\":1.0},\"width\":600});\n",
       "    </script>\n"
      ]
     },
     "execution_count": 24,
     "metadata": {},
     "output_type": "execute_result"
    }
   ],
   "source": [
    "f(x) = 3 * x^2 + 6 * x - 9\n",
    "for x = -5:5    \n",
    "  println(\"(\",x, \", \", f(x), \")\")\n",
    "end\n",
    "using Plots\n",
    "plot(f, -4, 3) # plot f over [-4,4]\n",
    "plot!(zero, -4, 3)"
   ]
  },
  {
   "cell_type": "code",
   "execution_count": 25,
   "metadata": {},
   "outputs": [
    {
     "data": {
      "application/vnd.plotly.v1+json": {
       "data": [
        {
         "colorbar": {
          "title": ""
         },
         "marker": {
          "color": [
           "rgba(0, 154, 250, 1.000)",
           "rgba(0, 154, 250, 1.000)",
           "rgba(0, 154, 250, 1.000)",
           "rgba(0, 154, 250, 1.000)",
           "rgba(0, 154, 250, 1.000)",
           "rgba(0, 154, 250, 1.000)",
           "rgba(0, 154, 250, 1.000)",
           "rgba(0, 154, 250, 1.000)",
           "rgba(0, 154, 250, 1.000)",
           "rgba(0, 154, 250, 1.000)",
           "rgba(0, 154, 250, 1.000)",
           "rgba(0, 154, 250, 1.000)",
           "rgba(0, 154, 250, 1.000)",
           "rgba(0, 154, 250, 1.000)",
           "rgba(0, 154, 250, 1.000)"
          ],
          "line": {
           "color": [
            "rgba(0, 0, 0, 1.000)",
            "rgba(0, 0, 0, 1.000)",
            "rgba(0, 0, 0, 1.000)",
            "rgba(0, 0, 0, 1.000)",
            "rgba(0, 0, 0, 1.000)",
            "rgba(0, 0, 0, 1.000)",
            "rgba(0, 0, 0, 1.000)",
            "rgba(0, 0, 0, 1.000)",
            "rgba(0, 0, 0, 1.000)",
            "rgba(0, 0, 0, 1.000)",
            "rgba(0, 0, 0, 1.000)",
            "rgba(0, 0, 0, 1.000)",
            "rgba(0, 0, 0, 1.000)",
            "rgba(0, 0, 0, 1.000)",
            "rgba(0, 0, 0, 1.000)"
           ],
           "width": 1
          },
          "size": 8,
          "symbol": "circle"
         },
         "mode": "markers",
         "name": "y1",
         "showlegend": true,
         "type": "scatter",
         "x": [
          1.6800483,
          0.501309281,
          1.528012113,
          1.70012253,
          1.992493625,
          2.706075824,
          2.994931927,
          3.491852811,
          3.501191722,
          4.459924502,
          4.936965851,
          5.023289852,
          5.04233698,
          5.50739285,
          5.568665171
         ],
         "xaxis": "x1",
         "y": [
          -1.641695388,
          -0.977697538,
          0.52771122,
          1.711524991,
          1.891000015,
          -0.463427794,
          -0.443566619,
          -1.275179133,
          -0.690499597,
          -5.516130799,
          -6.001703074,
          -8.36416901,
          -7.924477517,
          -10.77482371,
          -10.9171878
         ],
         "yaxis": "y1"
        }
       ],
       "layout": {
        "annotations": [],
        "height": 400,
        "margin": {
         "b": 20,
         "l": 0,
         "r": 0,
         "t": 20
        },
        "paper_bgcolor": "rgba(255, 255, 255, 1.000)",
        "plot_bgcolor": "rgba(255, 255, 255, 1.000)",
        "showlegend": false,
        "width": 600,
        "xaxis1": {
         "anchor": "y1",
         "domain": [
          0.08063575386410031,
          0.9934383202099737
         ],
         "gridcolor": "rgba(0, 0, 0, 0.100)",
         "gridwidth": 0.5,
         "linecolor": "rgba(0, 0, 0, 1.000)",
         "mirror": false,
         "range": [
          0.3492886043000001,
          5.7206858477
         ],
         "showgrid": true,
         "showline": true,
         "showticklabels": true,
         "tickangle": 0,
         "tickcolor": "rgb(0, 0, 0)",
         "tickfont": {
          "color": "rgba(0, 0, 0, 1.000)",
          "family": "sans-serif",
          "size": 11
         },
         "tickmode": "array",
         "ticks": "inside",
         "ticktext": [
          "1",
          "2",
          "3",
          "4",
          "5"
         ],
         "tickvals": [
          1,
          2,
          3,
          4,
          5
         ],
         "title": "",
         "titlefont": {
          "color": "rgba(0, 0, 0, 1.000)",
          "family": "sans-serif",
          "size": 15
         },
         "type": "-",
         "visible": true,
         "zeroline": false,
         "zerolinecolor": "rgba(0, 0, 0, 1.000)"
        },
        "yaxis1": {
         "anchor": "x1",
         "domain": [
          0.03762029746281716,
          0.9901574803149606
         ],
         "gridcolor": "rgba(0, 0, 0, 0.100)",
         "gridwidth": 0.5,
         "linecolor": "rgba(0, 0, 0, 1.000)",
         "mirror": false,
         "range": [
          -11.30143343445,
          2.27524564945
         ],
         "showgrid": true,
         "showline": true,
         "showticklabels": true,
         "tickangle": 0,
         "tickcolor": "rgb(0, 0, 0)",
         "tickfont": {
          "color": "rgba(0, 0, 0, 1.000)",
          "family": "sans-serif",
          "size": 11
         },
         "tickmode": "array",
         "ticks": "inside",
         "ticktext": [
          "-10.0",
          "-7.5",
          "-5.0",
          "-2.5",
          "0.0"
         ],
         "tickvals": [
          -10,
          -7.5,
          -5,
          -2.5,
          0
         ],
         "title": "",
         "titlefont": {
          "color": "rgba(0, 0, 0, 1.000)",
          "family": "sans-serif",
          "size": 15
         },
         "type": "-",
         "visible": true,
         "zeroline": false,
         "zerolinecolor": "rgba(0, 0, 0, 1.000)"
        }
       }
      },
      "text/html": [
       "<script src=\"file:///home/nicolas/.julia/v0.6/Plots/src/backends/../../deps/plotly-latest.min.js\"></script>    <div id=\"e56fb9b4-79a5-45b8-811e-1c3d991adebe\" style=\"width:600px;height:400px;\"></div>\n",
       "    <script>\n",
       "    PLOT = document.getElementById('e56fb9b4-79a5-45b8-811e-1c3d991adebe');\n",
       "    Plotly.plot(PLOT, [{\"showlegend\":true,\"mode\":\"markers\",\"xaxis\":\"x1\",\"colorbar\":{\"title\":\"\"},\"marker\":{\"symbol\":\"circle\",\"color\":[\"rgba(0, 154, 250, 1.000)\",\"rgba(0, 154, 250, 1.000)\",\"rgba(0, 154, 250, 1.000)\",\"rgba(0, 154, 250, 1.000)\",\"rgba(0, 154, 250, 1.000)\",\"rgba(0, 154, 250, 1.000)\",\"rgba(0, 154, 250, 1.000)\",\"rgba(0, 154, 250, 1.000)\",\"rgba(0, 154, 250, 1.000)\",\"rgba(0, 154, 250, 1.000)\",\"rgba(0, 154, 250, 1.000)\",\"rgba(0, 154, 250, 1.000)\",\"rgba(0, 154, 250, 1.000)\",\"rgba(0, 154, 250, 1.000)\",\"rgba(0, 154, 250, 1.000)\"],\"line\":{\"color\":[\"rgba(0, 0, 0, 1.000)\",\"rgba(0, 0, 0, 1.000)\",\"rgba(0, 0, 0, 1.000)\",\"rgba(0, 0, 0, 1.000)\",\"rgba(0, 0, 0, 1.000)\",\"rgba(0, 0, 0, 1.000)\",\"rgba(0, 0, 0, 1.000)\",\"rgba(0, 0, 0, 1.000)\",\"rgba(0, 0, 0, 1.000)\",\"rgba(0, 0, 0, 1.000)\",\"rgba(0, 0, 0, 1.000)\",\"rgba(0, 0, 0, 1.000)\",\"rgba(0, 0, 0, 1.000)\",\"rgba(0, 0, 0, 1.000)\",\"rgba(0, 0, 0, 1.000)\"],\"width\":1},\"size\":8},\"y\":[-1.641695388,-0.977697538,0.52771122,1.711524991,1.891000015,-0.463427794,-0.443566619,-1.275179133,-0.690499597,-5.516130799,-6.001703074,-8.36416901,-7.924477517,-10.77482371,-10.9171878],\"type\":\"scatter\",\"name\":\"y1\",\"yaxis\":\"y1\",\"x\":[1.6800483,0.501309281,1.528012113,1.70012253,1.992493625,2.706075824,2.994931927,3.491852811,3.501191722,4.459924502,4.936965851,5.023289852,5.04233698,5.50739285,5.568665171]}], {\"showlegend\":false,\"paper_bgcolor\":\"rgba(255, 255, 255, 1.000)\",\"xaxis1\":{\"showticklabels\":true,\"gridwidth\":0.5,\"tickvals\":[1.0,2.0,3.0,4.0,5.0],\"visible\":true,\"ticks\":\"inside\",\"range\":[0.3492886043000001,5.7206858477],\"domain\":[0.08063575386410031,0.9934383202099737],\"tickmode\":\"array\",\"linecolor\":\"rgba(0, 0, 0, 1.000)\",\"showgrid\":true,\"title\":\"\",\"mirror\":false,\"tickangle\":0,\"showline\":true,\"gridcolor\":\"rgba(0, 0, 0, 0.100)\",\"titlefont\":{\"color\":\"rgba(0, 0, 0, 1.000)\",\"family\":\"sans-serif\",\"size\":15},\"tickcolor\":\"rgb(0, 0, 0)\",\"ticktext\":[\"1\",\"2\",\"3\",\"4\",\"5\"],\"zeroline\":false,\"type\":\"-\",\"tickfont\":{\"color\":\"rgba(0, 0, 0, 1.000)\",\"family\":\"sans-serif\",\"size\":11},\"zerolinecolor\":\"rgba(0, 0, 0, 1.000)\",\"anchor\":\"y1\"},\"annotations\":[],\"height\":400,\"margin\":{\"l\":0,\"b\":20,\"r\":0,\"t\":20},\"plot_bgcolor\":\"rgba(255, 255, 255, 1.000)\",\"yaxis1\":{\"showticklabels\":true,\"gridwidth\":0.5,\"tickvals\":[-10.0,-7.5,-5.0,-2.5,0.0],\"visible\":true,\"ticks\":\"inside\",\"range\":[-11.30143343445,2.27524564945],\"domain\":[0.03762029746281716,0.9901574803149606],\"tickmode\":\"array\",\"linecolor\":\"rgba(0, 0, 0, 1.000)\",\"showgrid\":true,\"title\":\"\",\"mirror\":false,\"tickangle\":0,\"showline\":true,\"gridcolor\":\"rgba(0, 0, 0, 0.100)\",\"titlefont\":{\"color\":\"rgba(0, 0, 0, 1.000)\",\"family\":\"sans-serif\",\"size\":15},\"tickcolor\":\"rgb(0, 0, 0)\",\"ticktext\":[\"-10.0\",\"-7.5\",\"-5.0\",\"-2.5\",\"0.0\"],\"zeroline\":false,\"type\":\"-\",\"tickfont\":{\"color\":\"rgba(0, 0, 0, 1.000)\",\"family\":\"sans-serif\",\"size\":11},\"zerolinecolor\":\"rgba(0, 0, 0, 1.000)\",\"anchor\":\"x1\"},\"width\":600});\n",
       "    </script>\n"
      ]
     },
     "execution_count": 25,
     "metadata": {},
     "output_type": "execute_result"
    }
   ],
   "source": [
    "data = [1.6800483  -1.641695388; \n",
    "        0.501309281 -0.977697538; \n",
    "        1.528012113 0.52771122;\n",
    "        1.70012253 1.711524991; \n",
    "        1.992493625 1.891000015;\n",
    "        2.706075824 -0.463427794;\n",
    "        2.994931927 -0.443566619;\n",
    "        3.491852811 -1.275179133;\n",
    "        3.501191722 -0.690499597;\n",
    "        4.459924502 -5.516130799;\n",
    "        4.936965851 -6.001703074;\n",
    "        5.023289852 -8.36416901;\n",
    "        5.04233698 -7.924477517;\n",
    "        5.50739285 -10.77482371;\n",
    "        5.568665171 -10.9171878]\n",
    "\n",
    "x,y = data[:,1], data[:,2]\n",
    "\n",
    "using Plots\n",
    "plot(x, y, linetype = :scatter, leg = false) \n",
    "# scatter(x, y) # this is an alternative method, but does make a legend"
   ]
  },
  {
   "cell_type": "code",
   "execution_count": 26,
   "metadata": {},
   "outputs": [
    {
     "data": {
      "text/plain": [
       "4-element Array{Any,1}:\n",
       " #undef\n",
       " #undef\n",
       " #undef\n",
       " #undef"
      ]
     },
     "execution_count": 26,
     "metadata": {},
     "output_type": "execute_result"
    }
   ],
   "source": [
    "testArray = Array{Any}(20)\n",
    "\n",
    "testArray[end-3:end]\n"
   ]
  },
  {
   "cell_type": "code",
   "execution_count": 27,
   "metadata": {},
   "outputs": [
    {
     "ename": "LoadError",
     "evalue": "\u001b[91msyntax: incomplete: premature end of input\u001b[39m",
     "output_type": "error",
     "traceback": [
      "\u001b[91msyntax: incomplete: premature end of input\u001b[39m",
      "",
      "Stacktrace:",
      " [1] \u001b[1minclude_string\u001b[22m\u001b[22m\u001b[1m(\u001b[22m\u001b[22m::String, ::String\u001b[1m)\u001b[22m\u001b[22m at \u001b[1m./loading.jl:522\u001b[22m\u001b[22m"
     ]
    }
   ],
   "source": [
    "using Plots\n",
    "plot?"
   ]
  },
  {
   "cell_type": "code",
   "execution_count": 28,
   "metadata": {},
   "outputs": [
    {
     "name": "stdout",
     "output_type": "stream",
     "text": [
      "search: \u001b[1mp\u001b[22m\u001b[1ml\u001b[22m\u001b[1mo\u001b[22m\u001b[1mt\u001b[22m \u001b[1mp\u001b[22m\u001b[1ml\u001b[22m\u001b[1mo\u001b[22m\u001b[1mt\u001b[22m! \u001b[1mp\u001b[22m\u001b[1ml\u001b[22m\u001b[1mo\u001b[22m\u001b[1mt\u001b[22mly \u001b[1mp\u001b[22m\u001b[1ml\u001b[22m\u001b[1mo\u001b[22m\u001b[1mt\u001b[22m3d \u001b[1mP\u001b[22m\u001b[1ml\u001b[22m\u001b[1mo\u001b[22m\u001b[1mt\u001b[22ms \u001b[1mp\u001b[22m\u001b[1ml\u001b[22m\u001b[1mo\u001b[22m\u001b[1mt\u001b[22m3d! \u001b[1mp\u001b[22m\u001b[1ml\u001b[22m\u001b[1mo\u001b[22m\u001b[1mt\u001b[22mlyjs \u001b[1mp\u001b[22m\u001b[1ml\u001b[22m\u001b[1mo\u001b[22m\u001b[1mt\u001b[22mattr \u001b[1mp\u001b[22m\u001b[1ml\u001b[22m\u001b[1mo\u001b[22m\u001b[1mt\u001b[22marea\n",
      "\n"
     ]
    },
    {
     "data": {
      "text/markdown": [
       "The main plot command. Use `plot` to create a new plot object, and `plot!` to add to an existing one:\n",
       "\n",
       "```\n",
       "    plot(args...; kw...)                  # creates a new plot window, and sets it to be the current\n",
       "    plot!(args...; kw...)                 # adds to the `current`\n",
       "    plot!(plotobj, args...; kw...)        # adds to the plot `plotobj`\n",
       "```\n",
       "\n",
       "There are lots of ways to pass in data, and lots of keyword arguments... just try it and it will likely work as expected. When you pass in matrices, it splits by columns. To see the list of available attributes, use the `plotattr([attr])` function, where `attr` is the symbol `:Series:`, `:Subplot:`, `:Plot` or `:Axis`. Pass any attribute to `plotattr` as a String to look up its docstring; e.g. `plotattr(\"seriestype\")`.\n"
      ],
      "text/plain": [
       "The main plot command. Use `plot` to create a new plot object, and `plot!` to add to an existing one:\n",
       "\n",
       "```\n",
       "    plot(args...; kw...)                  # creates a new plot window, and sets it to be the current\n",
       "    plot!(args...; kw...)                 # adds to the `current`\n",
       "    plot!(plotobj, args...; kw...)        # adds to the plot `plotobj`\n",
       "```\n",
       "\n",
       "There are lots of ways to pass in data, and lots of keyword arguments... just try it and it will likely work as expected. When you pass in matrices, it splits by columns. To see the list of available attributes, use the `plotattr([attr])` function, where `attr` is the symbol `:Series:`, `:Subplot:`, `:Plot` or `:Axis`. Pass any attribute to `plotattr` as a String to look up its docstring; e.g. `plotattr(\"seriestype\")`.\n"
      ]
     },
     "execution_count": 28,
     "metadata": {},
     "output_type": "execute_result"
    }
   ],
   "source": [
    "?plot"
   ]
  },
  {
   "cell_type": "code",
   "execution_count": 29,
   "metadata": {},
   "outputs": [
    {
     "name": "stdout",
     "output_type": "stream",
     "text": [
      "search: \u001b[1mc\u001b[22m\u001b[1mo\u001b[22m\u001b[1ml\u001b[22m\u001b[1ml\u001b[22m\u001b[1me\u001b[22m\u001b[1mc\u001b[22m\u001b[1mt\u001b[22m \u001b[1mC\u001b[22m\u001b[1mo\u001b[22m\u001b[1ml\u001b[22m\u001b[1ml\u001b[22m\u001b[1me\u001b[22m\u001b[1mc\u001b[22m\u001b[1mt\u001b[22mions get_\u001b[1mc\u001b[22m\u001b[1mo\u001b[22m\u001b[1ml\u001b[22mor_pa\u001b[1ml\u001b[22m\u001b[1me\u001b[22mtte\n",
      "\n"
     ]
    },
    {
     "data": {
      "text/markdown": [
       "```\n",
       "collect(element_type, collection)\n",
       "```\n",
       "\n",
       "Return an `Array` with the given element type of all items in a collection or iterable. The result has the same shape and number of dimensions as `collection`.\n",
       "\n",
       "```jldoctest\n",
       "julia> collect(Float64, 1:2:5)\n",
       "3-element Array{Float64,1}:\n",
       " 1.0\n",
       " 3.0\n",
       " 5.0\n",
       "```\n",
       "\n",
       "```\n",
       "collect(collection)\n",
       "```\n",
       "\n",
       "Return an `Array` of all items in a collection or iterator. For associative collections, returns `Pair{KeyType, ValType}`. If the argument is array-like or is an iterator with the `HasShape()` trait, the result will have the same shape and number of dimensions as the argument.\n",
       "\n",
       "# Example\n",
       "\n",
       "```jldoctest\n",
       "julia> collect(1:2:13)\n",
       "7-element Array{Int64,1}:\n",
       "  1\n",
       "  3\n",
       "  5\n",
       "  7\n",
       "  9\n",
       " 11\n",
       " 13\n",
       "```\n"
      ],
      "text/plain": [
       "```\n",
       "collect(element_type, collection)\n",
       "```\n",
       "\n",
       "Return an `Array` with the given element type of all items in a collection or iterable. The result has the same shape and number of dimensions as `collection`.\n",
       "\n",
       "```jldoctest\n",
       "julia> collect(Float64, 1:2:5)\n",
       "3-element Array{Float64,1}:\n",
       " 1.0\n",
       " 3.0\n",
       " 5.0\n",
       "```\n",
       "\n",
       "```\n",
       "collect(collection)\n",
       "```\n",
       "\n",
       "Return an `Array` of all items in a collection or iterator. For associative collections, returns `Pair{KeyType, ValType}`. If the argument is array-like or is an iterator with the `HasShape()` trait, the result will have the same shape and number of dimensions as the argument.\n",
       "\n",
       "# Example\n",
       "\n",
       "```jldoctest\n",
       "julia> collect(1:2:13)\n",
       "7-element Array{Int64,1}:\n",
       "  1\n",
       "  3\n",
       "  5\n",
       "  7\n",
       "  9\n",
       " 11\n",
       " 13\n",
       "```\n"
      ]
     },
     "execution_count": 29,
     "metadata": {},
     "output_type": "execute_result"
    }
   ],
   "source": [
    "?collect"
   ]
  },
  {
   "cell_type": "code",
   "execution_count": 30,
   "metadata": {},
   "outputs": [
    {
     "data": {
      "text/plain": [
       "7-element Array{Int64,1}:\n",
       " 1\n",
       " 2\n",
       " 3\n",
       " 4\n",
       " 5\n",
       " 6\n",
       " 7"
      ]
     },
     "execution_count": 30,
     "metadata": {},
     "output_type": "execute_result"
    }
   ],
   "source": [
    "collect(1:7)"
   ]
  },
  {
   "cell_type": "code",
   "execution_count": 31,
   "metadata": {},
   "outputs": [
    {
     "data": {
      "text/plain": [
       "1:7"
      ]
     },
     "execution_count": 31,
     "metadata": {},
     "output_type": "execute_result"
    }
   ],
   "source": [
    "1:7"
   ]
  },
  {
   "cell_type": "code",
   "execution_count": 32,
   "metadata": {},
   "outputs": [
    {
     "data": {
      "text/plain": [
       "1×4 Array{Int64,2}:\n",
       " 1  2  3  4"
      ]
     },
     "execution_count": 32,
     "metadata": {},
     "output_type": "execute_result"
    }
   ],
   "source": [
    "[1 2 3 4]"
   ]
  },
  {
   "cell_type": "code",
   "execution_count": 33,
   "metadata": {},
   "outputs": [
    {
     "data": {
      "text/plain": [
       "4×2 Array{Int64,2}:\n",
       " 1  5\n",
       " 2  6\n",
       " 3  7\n",
       " 4  8"
      ]
     },
     "execution_count": 33,
     "metadata": {},
     "output_type": "execute_result"
    }
   ],
   "source": [
    "[ 1 2 3 4\n",
    "5 6 7 8]'"
   ]
  },
  {
   "cell_type": "code",
   "execution_count": 34,
   "metadata": {},
   "outputs": [
    {
     "data": {
      "application/vnd.plotly.v1+json": {
       "data": [
        {
         "colorbar": {
          "title": ""
         },
         "line": {
          "color": "rgba(0, 154, 250, 1.000)",
          "dash": "solid",
          "shape": "linear",
          "width": 1
         },
         "marker": {
          "color": [
           "rgba(0, 154, 250, 1.000)",
           "rgba(0, 154, 250, 1.000)",
           "rgba(0, 154, 250, 1.000)",
           "rgba(0, 154, 250, 1.000)",
           "rgba(0, 154, 250, 1.000)",
           "rgba(0, 154, 250, 1.000)"
          ],
          "line": {
           "color": [
            "rgba(0, 0, 0, 1.000)",
            "rgba(0, 0, 0, 1.000)",
            "rgba(0, 0, 0, 1.000)",
            "rgba(0, 0, 0, 1.000)",
            "rgba(0, 0, 0, 1.000)",
            "rgba(0, 0, 0, 1.000)"
           ],
           "width": 1
          },
          "size": 8,
          "symbol": "hexagon"
         },
         "mode": "lines+markers",
         "name": "y1",
         "showlegend": true,
         "type": "scatter",
         "x": [
          1,
          2,
          3,
          4,
          5,
          6
         ],
         "xaxis": "x1",
         "y": [
          1,
          0.25,
          0,
          0.25,
          1,
          2.25
         ],
         "yaxis": "y1"
        }
       ],
       "layout": {
        "annotations": [
         {
          "font": {
           "color": "rgba(0, 0, 0, 1.000)",
           "family": "sans-serif",
           "size": 20
          },
          "rotation": 0,
          "showarrow": false,
          "text": "Plot for graded quiz",
          "x": 0.5222222222222223,
          "xanchor": "center",
          "xref": "paper",
          "y": 1,
          "yanchor": "top",
          "yref": "paper"
         }
        ],
        "height": 400,
        "margin": {
         "b": 20,
         "l": 0,
         "r": 0,
         "t": 20
        },
        "paper_bgcolor": "rgba(255, 255, 255, 1.000)",
        "plot_bgcolor": "rgba(255, 255, 255, 1.000)",
        "showlegend": false,
        "width": 600,
        "xaxis1": {
         "anchor": "y1",
         "domain": [
          0.05100612423447069,
          0.9934383202099737
         ],
         "gridcolor": "rgba(0, 0, 0, 0.100)",
         "gridwidth": 0.5,
         "linecolor": "rgba(0, 0, 0, 1.000)",
         "mirror": false,
         "range": [
          0.85,
          6.15
         ],
         "showgrid": true,
         "showline": true,
         "showticklabels": true,
         "tickangle": 0,
         "tickcolor": "rgb(0, 0, 0)",
         "tickfont": {
          "color": "rgba(0, 0, 0, 1.000)",
          "family": "sans-serif",
          "size": 11
         },
         "tickmode": "array",
         "ticks": "inside",
         "ticktext": [
          "1",
          "2",
          "3",
          "4",
          "5",
          "6"
         ],
         "tickvals": [
          1,
          2,
          3,
          4,
          5,
          6
         ],
         "title": "",
         "titlefont": {
          "color": "rgba(0, 0, 0, 1.000)",
          "family": "sans-serif",
          "size": 15
         },
         "type": "-",
         "visible": true,
         "zeroline": false,
         "zerolinecolor": "rgba(0, 0, 0, 1.000)"
        },
        "yaxis1": {
         "anchor": "x1",
         "domain": [
          0.03762029746281716,
          0.9415463692038496
         ],
         "gridcolor": "rgba(0, 0, 0, 0.100)",
         "gridwidth": 0.5,
         "linecolor": "rgba(0, 0, 0, 1.000)",
         "mirror": false,
         "range": [
          -0.0675,
          2.3175
         ],
         "showgrid": true,
         "showline": true,
         "showticklabels": true,
         "tickangle": 0,
         "tickcolor": "rgb(0, 0, 0)",
         "tickfont": {
          "color": "rgba(0, 0, 0, 1.000)",
          "family": "sans-serif",
          "size": 11
         },
         "tickmode": "array",
         "ticks": "inside",
         "ticktext": [
          "0.0",
          "0.5",
          "1.0",
          "1.5",
          "2.0"
         ],
         "tickvals": [
          0,
          0.5,
          1,
          1.5,
          2
         ],
         "title": "",
         "titlefont": {
          "color": "rgba(0, 0, 0, 1.000)",
          "family": "sans-serif",
          "size": 15
         },
         "type": "-",
         "visible": true,
         "zeroline": false,
         "zerolinecolor": "rgba(0, 0, 0, 1.000)"
        }
       }
      },
      "text/html": [
       "<script src=\"file:///home/nicolas/.julia/v0.6/Plots/src/backends/../../deps/plotly-latest.min.js\"></script>    <div id=\"40bdc3d4-23bd-4529-8f50-ffa7b9feea2f\" style=\"width:600px;height:400px;\"></div>\n",
       "    <script>\n",
       "    PLOT = document.getElementById('40bdc3d4-23bd-4529-8f50-ffa7b9feea2f');\n",
       "    Plotly.plot(PLOT, [{\"xaxis\":\"x1\",\"colorbar\":{\"title\":\"\"},\"yaxis\":\"y1\",\"x\":[1,2,3,4,5,6],\"showlegend\":true,\"mode\":\"lines+markers\",\"name\":\"y1\",\"marker\":{\"symbol\":\"hexagon\",\"color\":[\"rgba(0, 154, 250, 1.000)\",\"rgba(0, 154, 250, 1.000)\",\"rgba(0, 154, 250, 1.000)\",\"rgba(0, 154, 250, 1.000)\",\"rgba(0, 154, 250, 1.000)\",\"rgba(0, 154, 250, 1.000)\"],\"line\":{\"color\":[\"rgba(0, 0, 0, 1.000)\",\"rgba(0, 0, 0, 1.000)\",\"rgba(0, 0, 0, 1.000)\",\"rgba(0, 0, 0, 1.000)\",\"rgba(0, 0, 0, 1.000)\",\"rgba(0, 0, 0, 1.000)\"],\"width\":1},\"size\":8},\"line\":{\"color\":\"rgba(0, 154, 250, 1.000)\",\"shape\":\"linear\",\"dash\":\"solid\",\"width\":1},\"y\":[1.0,0.25,0.0,0.25,1.0,2.25],\"type\":\"scatter\"}], {\"showlegend\":false,\"paper_bgcolor\":\"rgba(255, 255, 255, 1.000)\",\"xaxis1\":{\"showticklabels\":true,\"gridwidth\":0.5,\"tickvals\":[1.0,2.0,3.0,4.0,5.0,6.0],\"visible\":true,\"ticks\":\"inside\",\"range\":[0.85,6.15],\"domain\":[0.05100612423447069,0.9934383202099737],\"tickmode\":\"array\",\"linecolor\":\"rgba(0, 0, 0, 1.000)\",\"showgrid\":true,\"title\":\"\",\"mirror\":false,\"tickangle\":0,\"showline\":true,\"gridcolor\":\"rgba(0, 0, 0, 0.100)\",\"titlefont\":{\"color\":\"rgba(0, 0, 0, 1.000)\",\"family\":\"sans-serif\",\"size\":15},\"tickcolor\":\"rgb(0, 0, 0)\",\"ticktext\":[\"1\",\"2\",\"3\",\"4\",\"5\",\"6\"],\"zeroline\":false,\"type\":\"-\",\"tickfont\":{\"color\":\"rgba(0, 0, 0, 1.000)\",\"family\":\"sans-serif\",\"size\":11},\"zerolinecolor\":\"rgba(0, 0, 0, 1.000)\",\"anchor\":\"y1\"},\"annotations\":[{\"yanchor\":\"top\",\"xanchor\":\"center\",\"rotation\":-0.0,\"y\":1.0,\"font\":{\"color\":\"rgba(0, 0, 0, 1.000)\",\"family\":\"sans-serif\",\"size\":20},\"yref\":\"paper\",\"showarrow\":false,\"text\":\"Plot for graded quiz\",\"xref\":\"paper\",\"x\":0.5222222222222223}],\"height\":400,\"margin\":{\"l\":0,\"b\":20,\"r\":0,\"t\":20},\"plot_bgcolor\":\"rgba(255, 255, 255, 1.000)\",\"yaxis1\":{\"showticklabels\":true,\"gridwidth\":0.5,\"tickvals\":[0.0,0.5,1.0,1.5,2.0],\"visible\":true,\"ticks\":\"inside\",\"range\":[-0.0675,2.3175],\"domain\":[0.03762029746281716,0.9415463692038496],\"tickmode\":\"array\",\"linecolor\":\"rgba(0, 0, 0, 1.000)\",\"showgrid\":true,\"title\":\"\",\"mirror\":false,\"tickangle\":0,\"showline\":true,\"gridcolor\":\"rgba(0, 0, 0, 0.100)\",\"titlefont\":{\"color\":\"rgba(0, 0, 0, 1.000)\",\"family\":\"sans-serif\",\"size\":15},\"tickcolor\":\"rgb(0, 0, 0)\",\"ticktext\":[\"0.0\",\"0.5\",\"1.0\",\"1.5\",\"2.0\"],\"zeroline\":false,\"type\":\"-\",\"tickfont\":{\"color\":\"rgba(0, 0, 0, 1.000)\",\"family\":\"sans-serif\",\"size\":11},\"zerolinecolor\":\"rgba(0, 0, 0, 1.000)\",\"anchor\":\"x1\"},\"width\":600});\n",
       "    </script>\n"
      ]
     },
     "execution_count": 34,
     "metadata": {},
     "output_type": "execute_result"
    }
   ],
   "source": [
    "x = [1 2 3 4 5 6]'\n",
    "y = (x-3).^2/4\n",
    "plot(x,y, marker = :hex, leg=false)\n",
    "plot!(title=\"Plot for graded quiz\", linewidth = 2, linecolor=:black)"
   ]
  },
  {
   "cell_type": "code",
   "execution_count": 35,
   "metadata": {},
   "outputs": [
    {
     "data": {
      "text/plain": [
       "([1, 2, 3, 4, 5, 6], [1.0, 0.25, 0.0, 0.25, 1.0, 2.25], Tuple{Array{Int64,1},Array{Float64,1}})"
      ]
     },
     "execution_count": 35,
     "metadata": {},
     "output_type": "execute_result"
    }
   ],
   "source": [
    "x = [1, 2, 3, 4, 5, 6]\n",
    "y = (x-3).^2/4\n",
    "x,y,typeof((x,y))"
   ]
  },
  {
   "cell_type": "code",
   "execution_count": 36,
   "metadata": {},
   "outputs": [
    {
     "data": {
      "application/vnd.plotly.v1+json": {
       "data": [
        {
         "colorbar": {
          "title": ""
         },
         "line": {
          "color": "rgba(0, 0, 0, 1.000)",
          "dash": "solid",
          "shape": "linear",
          "width": 2
         },
         "marker": {
          "color": [
           "rgba(0, 154, 250, 1.000)",
           "rgba(0, 154, 250, 1.000)",
           "rgba(0, 154, 250, 1.000)",
           "rgba(0, 154, 250, 1.000)",
           "rgba(0, 154, 250, 1.000)",
           "rgba(0, 154, 250, 1.000)"
          ],
          "line": {
           "color": [
            "rgba(0, 0, 0, 1.000)",
            "rgba(0, 0, 0, 1.000)",
            "rgba(0, 0, 0, 1.000)",
            "rgba(0, 0, 0, 1.000)",
            "rgba(0, 0, 0, 1.000)",
            "rgba(0, 0, 0, 1.000)"
           ],
           "width": 1
          },
          "size": 8,
          "symbol": "hexagon"
         },
         "mode": "lines+markers",
         "name": "y1",
         "showlegend": true,
         "type": "scatter",
         "x": [
          1,
          2,
          3,
          4,
          5,
          6
         ],
         "xaxis": "x1",
         "y": [
          1,
          0.25,
          0,
          0.25,
          1,
          2.25
         ],
         "yaxis": "y1"
        }
       ],
       "layout": {
        "annotations": [
         {
          "font": {
           "color": "rgba(0, 0, 0, 1.000)",
           "family": "sans-serif",
           "size": 20
          },
          "rotation": 0,
          "showarrow": false,
          "text": "Plot for graded quiz",
          "x": 0.5222222222222223,
          "xanchor": "center",
          "xref": "paper",
          "y": 1,
          "yanchor": "top",
          "yref": "paper"
         }
        ],
        "height": 400,
        "margin": {
         "b": 20,
         "l": 0,
         "r": 0,
         "t": 20
        },
        "paper_bgcolor": "rgba(255, 255, 255, 1.000)",
        "plot_bgcolor": "rgba(255, 255, 255, 1.000)",
        "showlegend": false,
        "width": 600,
        "xaxis1": {
         "anchor": "y1",
         "domain": [
          0.05100612423447069,
          0.9934383202099737
         ],
         "gridcolor": "rgba(0, 0, 0, 0.100)",
         "gridwidth": 0.5,
         "linecolor": "rgba(0, 0, 0, 1.000)",
         "mirror": false,
         "range": [
          0.85,
          6.15
         ],
         "showgrid": true,
         "showline": true,
         "showticklabels": true,
         "tickangle": 0,
         "tickcolor": "rgb(0, 0, 0)",
         "tickfont": {
          "color": "rgba(0, 0, 0, 1.000)",
          "family": "sans-serif",
          "size": 11
         },
         "tickmode": "array",
         "ticks": "inside",
         "ticktext": [
          "1",
          "2",
          "3",
          "4",
          "5",
          "6"
         ],
         "tickvals": [
          1,
          2,
          3,
          4,
          5,
          6
         ],
         "title": "",
         "titlefont": {
          "color": "rgba(0, 0, 0, 1.000)",
          "family": "sans-serif",
          "size": 15
         },
         "type": "-",
         "visible": true,
         "zeroline": false,
         "zerolinecolor": "rgba(0, 0, 0, 1.000)"
        },
        "yaxis1": {
         "anchor": "x1",
         "domain": [
          0.03762029746281716,
          0.9415463692038496
         ],
         "gridcolor": "rgba(0, 0, 0, 0.100)",
         "gridwidth": 0.5,
         "linecolor": "rgba(0, 0, 0, 1.000)",
         "mirror": false,
         "range": [
          -0.0675,
          2.3175
         ],
         "showgrid": true,
         "showline": true,
         "showticklabels": true,
         "tickangle": 0,
         "tickcolor": "rgb(0, 0, 0)",
         "tickfont": {
          "color": "rgba(0, 0, 0, 1.000)",
          "family": "sans-serif",
          "size": 11
         },
         "tickmode": "array",
         "ticks": "inside",
         "ticktext": [
          "0.0",
          "0.5",
          "1.0",
          "1.5",
          "2.0"
         ],
         "tickvals": [
          0,
          0.5,
          1,
          1.5,
          2
         ],
         "title": "",
         "titlefont": {
          "color": "rgba(0, 0, 0, 1.000)",
          "family": "sans-serif",
          "size": 15
         },
         "type": "-",
         "visible": true,
         "zeroline": false,
         "zerolinecolor": "rgba(0, 0, 0, 1.000)"
        }
       }
      },
      "text/html": [
       "<script src=\"file:///home/nicolas/.julia/v0.6/Plots/src/backends/../../deps/plotly-latest.min.js\"></script>    <div id=\"5152285a-4889-4eb0-b9b1-353266565ee0\" style=\"width:600px;height:400px;\"></div>\n",
       "    <script>\n",
       "    PLOT = document.getElementById('5152285a-4889-4eb0-b9b1-353266565ee0');\n",
       "    Plotly.plot(PLOT, [{\"xaxis\":\"x1\",\"colorbar\":{\"title\":\"\"},\"yaxis\":\"y1\",\"x\":[1,2,3,4,5,6],\"showlegend\":true,\"mode\":\"lines+markers\",\"name\":\"y1\",\"marker\":{\"symbol\":\"hexagon\",\"color\":[\"rgba(0, 154, 250, 1.000)\",\"rgba(0, 154, 250, 1.000)\",\"rgba(0, 154, 250, 1.000)\",\"rgba(0, 154, 250, 1.000)\",\"rgba(0, 154, 250, 1.000)\",\"rgba(0, 154, 250, 1.000)\"],\"line\":{\"color\":[\"rgba(0, 0, 0, 1.000)\",\"rgba(0, 0, 0, 1.000)\",\"rgba(0, 0, 0, 1.000)\",\"rgba(0, 0, 0, 1.000)\",\"rgba(0, 0, 0, 1.000)\",\"rgba(0, 0, 0, 1.000)\"],\"width\":1},\"size\":8},\"line\":{\"color\":\"rgba(0, 0, 0, 1.000)\",\"shape\":\"linear\",\"dash\":\"solid\",\"width\":2},\"y\":[1.0,0.25,0.0,0.25,1.0,2.25],\"type\":\"scatter\"}], {\"showlegend\":false,\"paper_bgcolor\":\"rgba(255, 255, 255, 1.000)\",\"xaxis1\":{\"showticklabels\":true,\"gridwidth\":0.5,\"tickvals\":[1.0,2.0,3.0,4.0,5.0,6.0],\"visible\":true,\"ticks\":\"inside\",\"range\":[0.85,6.15],\"domain\":[0.05100612423447069,0.9934383202099737],\"tickmode\":\"array\",\"linecolor\":\"rgba(0, 0, 0, 1.000)\",\"showgrid\":true,\"title\":\"\",\"mirror\":false,\"tickangle\":0,\"showline\":true,\"gridcolor\":\"rgba(0, 0, 0, 0.100)\",\"titlefont\":{\"color\":\"rgba(0, 0, 0, 1.000)\",\"family\":\"sans-serif\",\"size\":15},\"tickcolor\":\"rgb(0, 0, 0)\",\"ticktext\":[\"1\",\"2\",\"3\",\"4\",\"5\",\"6\"],\"zeroline\":false,\"type\":\"-\",\"tickfont\":{\"color\":\"rgba(0, 0, 0, 1.000)\",\"family\":\"sans-serif\",\"size\":11},\"zerolinecolor\":\"rgba(0, 0, 0, 1.000)\",\"anchor\":\"y1\"},\"annotations\":[{\"yanchor\":\"top\",\"xanchor\":\"center\",\"rotation\":-0.0,\"y\":1.0,\"font\":{\"color\":\"rgba(0, 0, 0, 1.000)\",\"family\":\"sans-serif\",\"size\":20},\"yref\":\"paper\",\"showarrow\":false,\"text\":\"Plot for graded quiz\",\"xref\":\"paper\",\"x\":0.5222222222222223}],\"height\":400,\"margin\":{\"l\":0,\"b\":20,\"r\":0,\"t\":20},\"plot_bgcolor\":\"rgba(255, 255, 255, 1.000)\",\"yaxis1\":{\"showticklabels\":true,\"gridwidth\":0.5,\"tickvals\":[0.0,0.5,1.0,1.5,2.0],\"visible\":true,\"ticks\":\"inside\",\"range\":[-0.0675,2.3175],\"domain\":[0.03762029746281716,0.9415463692038496],\"tickmode\":\"array\",\"linecolor\":\"rgba(0, 0, 0, 1.000)\",\"showgrid\":true,\"title\":\"\",\"mirror\":false,\"tickangle\":0,\"showline\":true,\"gridcolor\":\"rgba(0, 0, 0, 0.100)\",\"titlefont\":{\"color\":\"rgba(0, 0, 0, 1.000)\",\"family\":\"sans-serif\",\"size\":15},\"tickcolor\":\"rgb(0, 0, 0)\",\"ticktext\":[\"0.0\",\"0.5\",\"1.0\",\"1.5\",\"2.0\"],\"zeroline\":false,\"type\":\"-\",\"tickfont\":{\"color\":\"rgba(0, 0, 0, 1.000)\",\"family\":\"sans-serif\",\"size\":11},\"zerolinecolor\":\"rgba(0, 0, 0, 1.000)\",\"anchor\":\"x1\"},\"width\":600});\n",
       "    </script>\n"
      ]
     },
     "execution_count": 36,
     "metadata": {},
     "output_type": "execute_result"
    }
   ],
   "source": [
    "x = [1, 2, 3, 4, 5, 6]\n",
    "y = (x-3).^2/4\n",
    "plot(x,y, marker = :hex, leg=false, linewidth = 2, linecolor=:black)\n",
    "plot!(title=\"Plot for graded quiz\")"
   ]
  },
  {
   "cell_type": "code",
   "execution_count": 37,
   "metadata": {},
   "outputs": [
    {
     "data": {
      "text/plain": [
       "([1; 2; … ; 5; 6], [1.0; 0.25; … ; 1.0; 2.25], Tuple{Array{Int64,2},Array{Float64,2}})"
      ]
     },
     "execution_count": 37,
     "metadata": {},
     "output_type": "execute_result"
    }
   ],
   "source": [
    "x = [1 2 3 4 5 6]'\n",
    "y = (x-3).^2/4\n",
    "x,y,typeof((x,y))"
   ]
  },
  {
   "cell_type": "code",
   "execution_count": 38,
   "metadata": {},
   "outputs": [
    {
     "data": {
      "application/vnd.plotly.v1+json": {
       "data": [
        {
         "colorbar": {
          "title": ""
         },
         "line": {
          "color": "rgba(0, 0, 0, 1.000)",
          "dash": "solid",
          "shape": "linear",
          "width": 2
         },
         "marker": {
          "color": [
           "rgba(0, 154, 250, 1.000)",
           "rgba(0, 154, 250, 1.000)",
           "rgba(0, 154, 250, 1.000)",
           "rgba(0, 154, 250, 1.000)",
           "rgba(0, 154, 250, 1.000)",
           "rgba(0, 154, 250, 1.000)"
          ],
          "line": {
           "color": [
            "rgba(0, 0, 0, 1.000)",
            "rgba(0, 0, 0, 1.000)",
            "rgba(0, 0, 0, 1.000)",
            "rgba(0, 0, 0, 1.000)",
            "rgba(0, 0, 0, 1.000)",
            "rgba(0, 0, 0, 1.000)"
           ],
           "width": 1
          },
          "size": 8,
          "symbol": "hexagon"
         },
         "mode": "lines+markers",
         "name": "y1",
         "showlegend": true,
         "type": "scatter",
         "x": [
          1,
          2,
          3,
          4,
          5,
          6
         ],
         "xaxis": "x1",
         "y": [
          1,
          0.25,
          0,
          0.25,
          1,
          2.25
         ],
         "yaxis": "y1"
        }
       ],
       "layout": {
        "annotations": [
         {
          "font": {
           "color": "rgba(0, 0, 0, 1.000)",
           "family": "sans-serif",
           "size": 20
          },
          "rotation": 0,
          "showarrow": false,
          "text": "Plot for graded quiz",
          "x": 0.5222222222222223,
          "xanchor": "center",
          "xref": "paper",
          "y": 1,
          "yanchor": "top",
          "yref": "paper"
         }
        ],
        "height": 400,
        "margin": {
         "b": 20,
         "l": 0,
         "r": 0,
         "t": 20
        },
        "paper_bgcolor": "rgba(255, 255, 255, 1.000)",
        "plot_bgcolor": "rgba(255, 255, 255, 1.000)",
        "showlegend": false,
        "width": 600,
        "xaxis1": {
         "anchor": "y1",
         "domain": [
          0.05100612423447069,
          0.9934383202099737
         ],
         "gridcolor": "rgba(0, 0, 0, 0.100)",
         "gridwidth": 0.5,
         "linecolor": "rgba(0, 0, 0, 1.000)",
         "mirror": false,
         "range": [
          0.85,
          6.15
         ],
         "showgrid": true,
         "showline": true,
         "showticklabels": true,
         "tickangle": 0,
         "tickcolor": "rgb(0, 0, 0)",
         "tickfont": {
          "color": "rgba(0, 0, 0, 1.000)",
          "family": "sans-serif",
          "size": 11
         },
         "tickmode": "array",
         "ticks": "inside",
         "ticktext": [
          "1",
          "2",
          "3",
          "4",
          "5",
          "6"
         ],
         "tickvals": [
          1,
          2,
          3,
          4,
          5,
          6
         ],
         "title": "",
         "titlefont": {
          "color": "rgba(0, 0, 0, 1.000)",
          "family": "sans-serif",
          "size": 15
         },
         "type": "-",
         "visible": true,
         "zeroline": false,
         "zerolinecolor": "rgba(0, 0, 0, 1.000)"
        },
        "yaxis1": {
         "anchor": "x1",
         "domain": [
          0.03762029746281716,
          0.9415463692038496
         ],
         "gridcolor": "rgba(0, 0, 0, 0.100)",
         "gridwidth": 0.5,
         "linecolor": "rgba(0, 0, 0, 1.000)",
         "mirror": false,
         "range": [
          -0.0675,
          2.3175
         ],
         "showgrid": true,
         "showline": true,
         "showticklabels": true,
         "tickangle": 0,
         "tickcolor": "rgb(0, 0, 0)",
         "tickfont": {
          "color": "rgba(0, 0, 0, 1.000)",
          "family": "sans-serif",
          "size": 11
         },
         "tickmode": "array",
         "ticks": "inside",
         "ticktext": [
          "0.0",
          "0.5",
          "1.0",
          "1.5",
          "2.0"
         ],
         "tickvals": [
          0,
          0.5,
          1,
          1.5,
          2
         ],
         "title": "",
         "titlefont": {
          "color": "rgba(0, 0, 0, 1.000)",
          "family": "sans-serif",
          "size": 15
         },
         "type": "-",
         "visible": true,
         "zeroline": false,
         "zerolinecolor": "rgba(0, 0, 0, 1.000)"
        }
       }
      },
      "text/html": [
       "<script src=\"file:///home/nicolas/.julia/v0.6/Plots/src/backends/../../deps/plotly-latest.min.js\"></script>    <div id=\"8c917e79-b443-4e59-9b2a-441ecac2be57\" style=\"width:600px;height:400px;\"></div>\n",
       "    <script>\n",
       "    PLOT = document.getElementById('8c917e79-b443-4e59-9b2a-441ecac2be57');\n",
       "    Plotly.plot(PLOT, [{\"xaxis\":\"x1\",\"colorbar\":{\"title\":\"\"},\"yaxis\":\"y1\",\"x\":[1,2,3,4,5,6],\"showlegend\":true,\"mode\":\"lines+markers\",\"name\":\"y1\",\"marker\":{\"symbol\":\"hexagon\",\"color\":[\"rgba(0, 154, 250, 1.000)\",\"rgba(0, 154, 250, 1.000)\",\"rgba(0, 154, 250, 1.000)\",\"rgba(0, 154, 250, 1.000)\",\"rgba(0, 154, 250, 1.000)\",\"rgba(0, 154, 250, 1.000)\"],\"line\":{\"color\":[\"rgba(0, 0, 0, 1.000)\",\"rgba(0, 0, 0, 1.000)\",\"rgba(0, 0, 0, 1.000)\",\"rgba(0, 0, 0, 1.000)\",\"rgba(0, 0, 0, 1.000)\",\"rgba(0, 0, 0, 1.000)\"],\"width\":1},\"size\":8},\"line\":{\"color\":\"rgba(0, 0, 0, 1.000)\",\"shape\":\"linear\",\"dash\":\"solid\",\"width\":2},\"y\":[1.0,0.25,0.0,0.25,1.0,2.25],\"type\":\"scatter\"}], {\"showlegend\":false,\"paper_bgcolor\":\"rgba(255, 255, 255, 1.000)\",\"xaxis1\":{\"showticklabels\":true,\"gridwidth\":0.5,\"tickvals\":[1.0,2.0,3.0,4.0,5.0,6.0],\"visible\":true,\"ticks\":\"inside\",\"range\":[0.85,6.15],\"domain\":[0.05100612423447069,0.9934383202099737],\"tickmode\":\"array\",\"linecolor\":\"rgba(0, 0, 0, 1.000)\",\"showgrid\":true,\"title\":\"\",\"mirror\":false,\"tickangle\":0,\"showline\":true,\"gridcolor\":\"rgba(0, 0, 0, 0.100)\",\"titlefont\":{\"color\":\"rgba(0, 0, 0, 1.000)\",\"family\":\"sans-serif\",\"size\":15},\"tickcolor\":\"rgb(0, 0, 0)\",\"ticktext\":[\"1\",\"2\",\"3\",\"4\",\"5\",\"6\"],\"zeroline\":false,\"type\":\"-\",\"tickfont\":{\"color\":\"rgba(0, 0, 0, 1.000)\",\"family\":\"sans-serif\",\"size\":11},\"zerolinecolor\":\"rgba(0, 0, 0, 1.000)\",\"anchor\":\"y1\"},\"annotations\":[{\"yanchor\":\"top\",\"xanchor\":\"center\",\"rotation\":-0.0,\"y\":1.0,\"font\":{\"color\":\"rgba(0, 0, 0, 1.000)\",\"family\":\"sans-serif\",\"size\":20},\"yref\":\"paper\",\"showarrow\":false,\"text\":\"Plot for graded quiz\",\"xref\":\"paper\",\"x\":0.5222222222222223}],\"height\":400,\"margin\":{\"l\":0,\"b\":20,\"r\":0,\"t\":20},\"plot_bgcolor\":\"rgba(255, 255, 255, 1.000)\",\"yaxis1\":{\"showticklabels\":true,\"gridwidth\":0.5,\"tickvals\":[0.0,0.5,1.0,1.5,2.0],\"visible\":true,\"ticks\":\"inside\",\"range\":[-0.0675,2.3175],\"domain\":[0.03762029746281716,0.9415463692038496],\"tickmode\":\"array\",\"linecolor\":\"rgba(0, 0, 0, 1.000)\",\"showgrid\":true,\"title\":\"\",\"mirror\":false,\"tickangle\":0,\"showline\":true,\"gridcolor\":\"rgba(0, 0, 0, 0.100)\",\"titlefont\":{\"color\":\"rgba(0, 0, 0, 1.000)\",\"family\":\"sans-serif\",\"size\":15},\"tickcolor\":\"rgb(0, 0, 0)\",\"ticktext\":[\"0.0\",\"0.5\",\"1.0\",\"1.5\",\"2.0\"],\"zeroline\":false,\"type\":\"-\",\"tickfont\":{\"color\":\"rgba(0, 0, 0, 1.000)\",\"family\":\"sans-serif\",\"size\":11},\"zerolinecolor\":\"rgba(0, 0, 0, 1.000)\",\"anchor\":\"x1\"},\"width\":600});\n",
       "    </script>\n"
      ]
     },
     "execution_count": 38,
     "metadata": {},
     "output_type": "execute_result"
    }
   ],
   "source": [
    "x = [1 2 3 4 5 6]'\n",
    "y = (x-3).^2/4\n",
    "plot(x,y, marker = :hex, leg=false, linewidth = 2, linecolor=:black)\n",
    "plot!(title=\"Plot for graded quiz\")"
   ]
  },
  {
   "cell_type": "code",
   "execution_count": 39,
   "metadata": {},
   "outputs": [
    {
     "data": {
      "text/plain": [
       "([1 2 … 5 6], [1.0 0.25 … 1.0 2.25], Tuple{Array{Int64,2},Array{Float64,2}})"
      ]
     },
     "execution_count": 39,
     "metadata": {},
     "output_type": "execute_result"
    }
   ],
   "source": [
    "x = [1 2 3 4 5 6]\n",
    "y = (x-3).^2/4\n",
    "x,y,typeof((x,y))"
   ]
  },
  {
   "cell_type": "code",
   "execution_count": 40,
   "metadata": {},
   "outputs": [
    {
     "data": {
      "application/vnd.plotly.v1+json": {
       "data": [
        {
         "colorbar": {
          "title": ""
         },
         "line": {
          "color": "rgba(0, 0, 0, 1.000)",
          "dash": "solid",
          "shape": "linear",
          "width": 2
         },
         "marker": {
          "color": [
           "rgba(0, 154, 250, 1.000)"
          ],
          "line": {
           "color": [
            "rgba(0, 0, 0, 1.000)"
           ],
           "width": 1
          },
          "size": 8,
          "symbol": "hexagon"
         },
         "mode": "lines+markers",
         "name": "y1",
         "showlegend": true,
         "type": "scatter",
         "x": [
          1
         ],
         "xaxis": "x1",
         "y": [
          1
         ],
         "yaxis": "y1"
        },
        {
         "colorbar": {
          "title": ""
         },
         "line": {
          "color": "rgba(0, 0, 0, 1.000)",
          "dash": "solid",
          "shape": "linear",
          "width": 2
         },
         "marker": {
          "color": [
           "rgba(227, 111, 71, 1.000)"
          ],
          "line": {
           "color": [
            "rgba(0, 0, 0, 1.000)"
           ],
           "width": 1
          },
          "size": 8,
          "symbol": "hexagon"
         },
         "mode": "lines+markers",
         "name": "y2",
         "showlegend": true,
         "type": "scatter",
         "x": [
          2
         ],
         "xaxis": "x1",
         "y": [
          0.25
         ],
         "yaxis": "y1"
        },
        {
         "colorbar": {
          "title": ""
         },
         "line": {
          "color": "rgba(0, 0, 0, 1.000)",
          "dash": "solid",
          "shape": "linear",
          "width": 2
         },
         "marker": {
          "color": [
           "rgba(62, 164, 78, 1.000)"
          ],
          "line": {
           "color": [
            "rgba(0, 0, 0, 1.000)"
           ],
           "width": 1
          },
          "size": 8,
          "symbol": "hexagon"
         },
         "mode": "lines+markers",
         "name": "y3",
         "showlegend": true,
         "type": "scatter",
         "x": [
          3
         ],
         "xaxis": "x1",
         "y": [
          0
         ],
         "yaxis": "y1"
        },
        {
         "colorbar": {
          "title": ""
         },
         "line": {
          "color": "rgba(0, 0, 0, 1.000)",
          "dash": "solid",
          "shape": "linear",
          "width": 2
         },
         "marker": {
          "color": [
           "rgba(195, 113, 210, 1.000)"
          ],
          "line": {
           "color": [
            "rgba(0, 0, 0, 1.000)"
           ],
           "width": 1
          },
          "size": 8,
          "symbol": "hexagon"
         },
         "mode": "lines+markers",
         "name": "y4",
         "showlegend": true,
         "type": "scatter",
         "x": [
          4
         ],
         "xaxis": "x1",
         "y": [
          0.25
         ],
         "yaxis": "y1"
        },
        {
         "colorbar": {
          "title": ""
         },
         "line": {
          "color": "rgba(0, 0, 0, 1.000)",
          "dash": "solid",
          "shape": "linear",
          "width": 2
         },
         "marker": {
          "color": [
           "rgba(172, 142, 24, 1.000)"
          ],
          "line": {
           "color": [
            "rgba(0, 0, 0, 1.000)"
           ],
           "width": 1
          },
          "size": 8,
          "symbol": "hexagon"
         },
         "mode": "lines+markers",
         "name": "y5",
         "showlegend": true,
         "type": "scatter",
         "x": [
          5
         ],
         "xaxis": "x1",
         "y": [
          1
         ],
         "yaxis": "y1"
        },
        {
         "colorbar": {
          "title": ""
         },
         "line": {
          "color": "rgba(0, 0, 0, 1.000)",
          "dash": "solid",
          "shape": "linear",
          "width": 2
         },
         "marker": {
          "color": [
           "rgba(0, 170, 174, 1.000)"
          ],
          "line": {
           "color": [
            "rgba(0, 0, 0, 1.000)"
           ],
           "width": 1
          },
          "size": 8,
          "symbol": "hexagon"
         },
         "mode": "lines+markers",
         "name": "y6",
         "showlegend": true,
         "type": "scatter",
         "x": [
          6
         ],
         "xaxis": "x1",
         "y": [
          2.25
         ],
         "yaxis": "y1"
        }
       ],
       "layout": {
        "annotations": [
         {
          "font": {
           "color": "rgba(0, 0, 0, 1.000)",
           "family": "sans-serif",
           "size": 20
          },
          "rotation": 0,
          "showarrow": false,
          "text": "Plot for graded quiz",
          "x": 0.5222222222222223,
          "xanchor": "center",
          "xref": "paper",
          "y": 1,
          "yanchor": "top",
          "yref": "paper"
         }
        ],
        "height": 400,
        "margin": {
         "b": 20,
         "l": 0,
         "r": 0,
         "t": 20
        },
        "paper_bgcolor": "rgba(255, 255, 255, 1.000)",
        "plot_bgcolor": "rgba(255, 255, 255, 1.000)",
        "showlegend": false,
        "width": 600,
        "xaxis1": {
         "anchor": "y1",
         "domain": [
          0.05100612423447069,
          0.9934383202099737
         ],
         "gridcolor": "rgba(0, 0, 0, 0.100)",
         "gridwidth": 0.5,
         "linecolor": "rgba(0, 0, 0, 1.000)",
         "mirror": false,
         "range": [
          0.85,
          6.15
         ],
         "showgrid": true,
         "showline": true,
         "showticklabels": true,
         "tickangle": 0,
         "tickcolor": "rgb(0, 0, 0)",
         "tickfont": {
          "color": "rgba(0, 0, 0, 1.000)",
          "family": "sans-serif",
          "size": 11
         },
         "tickmode": "array",
         "ticks": "inside",
         "ticktext": [
          "1",
          "2",
          "3",
          "4",
          "5",
          "6"
         ],
         "tickvals": [
          1,
          2,
          3,
          4,
          5,
          6
         ],
         "title": "",
         "titlefont": {
          "color": "rgba(0, 0, 0, 1.000)",
          "family": "sans-serif",
          "size": 15
         },
         "type": "-",
         "visible": true,
         "zeroline": false,
         "zerolinecolor": "rgba(0, 0, 0, 1.000)"
        },
        "yaxis1": {
         "anchor": "x1",
         "domain": [
          0.03762029746281716,
          0.9415463692038496
         ],
         "gridcolor": "rgba(0, 0, 0, 0.100)",
         "gridwidth": 0.5,
         "linecolor": "rgba(0, 0, 0, 1.000)",
         "mirror": false,
         "range": [
          -0.0675,
          2.3175
         ],
         "showgrid": true,
         "showline": true,
         "showticklabels": true,
         "tickangle": 0,
         "tickcolor": "rgb(0, 0, 0)",
         "tickfont": {
          "color": "rgba(0, 0, 0, 1.000)",
          "family": "sans-serif",
          "size": 11
         },
         "tickmode": "array",
         "ticks": "inside",
         "ticktext": [
          "0.0",
          "0.5",
          "1.0",
          "1.5",
          "2.0"
         ],
         "tickvals": [
          0,
          0.5,
          1,
          1.5,
          2
         ],
         "title": "",
         "titlefont": {
          "color": "rgba(0, 0, 0, 1.000)",
          "family": "sans-serif",
          "size": 15
         },
         "type": "-",
         "visible": true,
         "zeroline": false,
         "zerolinecolor": "rgba(0, 0, 0, 1.000)"
        }
       }
      },
      "text/html": [
       "<script src=\"file:///home/nicolas/.julia/v0.6/Plots/src/backends/../../deps/plotly-latest.min.js\"></script>    <div id=\"6df5bbf2-ddb0-42d3-bd11-412c7fd1b718\" style=\"width:600px;height:400px;\"></div>\n",
       "    <script>\n",
       "    PLOT = document.getElementById('6df5bbf2-ddb0-42d3-bd11-412c7fd1b718');\n",
       "    Plotly.plot(PLOT, [{\"xaxis\":\"x1\",\"colorbar\":{\"title\":\"\"},\"yaxis\":\"y1\",\"x\":[1],\"showlegend\":true,\"mode\":\"lines+markers\",\"name\":\"y1\",\"marker\":{\"symbol\":\"hexagon\",\"color\":[\"rgba(0, 154, 250, 1.000)\"],\"line\":{\"color\":[\"rgba(0, 0, 0, 1.000)\"],\"width\":1},\"size\":8},\"line\":{\"color\":\"rgba(0, 0, 0, 1.000)\",\"shape\":\"linear\",\"dash\":\"solid\",\"width\":2},\"y\":[1.0],\"type\":\"scatter\"},{\"xaxis\":\"x1\",\"colorbar\":{\"title\":\"\"},\"yaxis\":\"y1\",\"x\":[2],\"showlegend\":true,\"mode\":\"lines+markers\",\"name\":\"y2\",\"marker\":{\"symbol\":\"hexagon\",\"color\":[\"rgba(227, 111, 71, 1.000)\"],\"line\":{\"color\":[\"rgba(0, 0, 0, 1.000)\"],\"width\":1},\"size\":8},\"line\":{\"color\":\"rgba(0, 0, 0, 1.000)\",\"shape\":\"linear\",\"dash\":\"solid\",\"width\":2},\"y\":[0.25],\"type\":\"scatter\"},{\"xaxis\":\"x1\",\"colorbar\":{\"title\":\"\"},\"yaxis\":\"y1\",\"x\":[3],\"showlegend\":true,\"mode\":\"lines+markers\",\"name\":\"y3\",\"marker\":{\"symbol\":\"hexagon\",\"color\":[\"rgba(62, 164, 78, 1.000)\"],\"line\":{\"color\":[\"rgba(0, 0, 0, 1.000)\"],\"width\":1},\"size\":8},\"line\":{\"color\":\"rgba(0, 0, 0, 1.000)\",\"shape\":\"linear\",\"dash\":\"solid\",\"width\":2},\"y\":[0.0],\"type\":\"scatter\"},{\"xaxis\":\"x1\",\"colorbar\":{\"title\":\"\"},\"yaxis\":\"y1\",\"x\":[4],\"showlegend\":true,\"mode\":\"lines+markers\",\"name\":\"y4\",\"marker\":{\"symbol\":\"hexagon\",\"color\":[\"rgba(195, 113, 210, 1.000)\"],\"line\":{\"color\":[\"rgba(0, 0, 0, 1.000)\"],\"width\":1},\"size\":8},\"line\":{\"color\":\"rgba(0, 0, 0, 1.000)\",\"shape\":\"linear\",\"dash\":\"solid\",\"width\":2},\"y\":[0.25],\"type\":\"scatter\"},{\"xaxis\":\"x1\",\"colorbar\":{\"title\":\"\"},\"yaxis\":\"y1\",\"x\":[5],\"showlegend\":true,\"mode\":\"lines+markers\",\"name\":\"y5\",\"marker\":{\"symbol\":\"hexagon\",\"color\":[\"rgba(172, 142, 24, 1.000)\"],\"line\":{\"color\":[\"rgba(0, 0, 0, 1.000)\"],\"width\":1},\"size\":8},\"line\":{\"color\":\"rgba(0, 0, 0, 1.000)\",\"shape\":\"linear\",\"dash\":\"solid\",\"width\":2},\"y\":[1.0],\"type\":\"scatter\"},{\"xaxis\":\"x1\",\"colorbar\":{\"title\":\"\"},\"yaxis\":\"y1\",\"x\":[6],\"showlegend\":true,\"mode\":\"lines+markers\",\"name\":\"y6\",\"marker\":{\"symbol\":\"hexagon\",\"color\":[\"rgba(0, 170, 174, 1.000)\"],\"line\":{\"color\":[\"rgba(0, 0, 0, 1.000)\"],\"width\":1},\"size\":8},\"line\":{\"color\":\"rgba(0, 0, 0, 1.000)\",\"shape\":\"linear\",\"dash\":\"solid\",\"width\":2},\"y\":[2.25],\"type\":\"scatter\"}], {\"showlegend\":false,\"paper_bgcolor\":\"rgba(255, 255, 255, 1.000)\",\"xaxis1\":{\"showticklabels\":true,\"gridwidth\":0.5,\"tickvals\":[1.0,2.0,3.0,4.0,5.0,6.0],\"visible\":true,\"ticks\":\"inside\",\"range\":[0.85,6.15],\"domain\":[0.05100612423447069,0.9934383202099737],\"tickmode\":\"array\",\"linecolor\":\"rgba(0, 0, 0, 1.000)\",\"showgrid\":true,\"title\":\"\",\"mirror\":false,\"tickangle\":0,\"showline\":true,\"gridcolor\":\"rgba(0, 0, 0, 0.100)\",\"titlefont\":{\"color\":\"rgba(0, 0, 0, 1.000)\",\"family\":\"sans-serif\",\"size\":15},\"tickcolor\":\"rgb(0, 0, 0)\",\"ticktext\":[\"1\",\"2\",\"3\",\"4\",\"5\",\"6\"],\"zeroline\":false,\"type\":\"-\",\"tickfont\":{\"color\":\"rgba(0, 0, 0, 1.000)\",\"family\":\"sans-serif\",\"size\":11},\"zerolinecolor\":\"rgba(0, 0, 0, 1.000)\",\"anchor\":\"y1\"},\"annotations\":[{\"yanchor\":\"top\",\"xanchor\":\"center\",\"rotation\":-0.0,\"y\":1.0,\"font\":{\"color\":\"rgba(0, 0, 0, 1.000)\",\"family\":\"sans-serif\",\"size\":20},\"yref\":\"paper\",\"showarrow\":false,\"text\":\"Plot for graded quiz\",\"xref\":\"paper\",\"x\":0.5222222222222223}],\"height\":400,\"margin\":{\"l\":0,\"b\":20,\"r\":0,\"t\":20},\"plot_bgcolor\":\"rgba(255, 255, 255, 1.000)\",\"yaxis1\":{\"showticklabels\":true,\"gridwidth\":0.5,\"tickvals\":[0.0,0.5,1.0,1.5,2.0],\"visible\":true,\"ticks\":\"inside\",\"range\":[-0.0675,2.3175],\"domain\":[0.03762029746281716,0.9415463692038496],\"tickmode\":\"array\",\"linecolor\":\"rgba(0, 0, 0, 1.000)\",\"showgrid\":true,\"title\":\"\",\"mirror\":false,\"tickangle\":0,\"showline\":true,\"gridcolor\":\"rgba(0, 0, 0, 0.100)\",\"titlefont\":{\"color\":\"rgba(0, 0, 0, 1.000)\",\"family\":\"sans-serif\",\"size\":15},\"tickcolor\":\"rgb(0, 0, 0)\",\"ticktext\":[\"0.0\",\"0.5\",\"1.0\",\"1.5\",\"2.0\"],\"zeroline\":false,\"type\":\"-\",\"tickfont\":{\"color\":\"rgba(0, 0, 0, 1.000)\",\"family\":\"sans-serif\",\"size\":11},\"zerolinecolor\":\"rgba(0, 0, 0, 1.000)\",\"anchor\":\"x1\"},\"width\":600});\n",
       "    </script>\n"
      ]
     },
     "execution_count": 40,
     "metadata": {},
     "output_type": "execute_result"
    }
   ],
   "source": [
    "x = [1 2 3 4 5 6]\n",
    "y = (x-3).^2/4\n",
    "plot(x,y, marker = :hex, leg=false, linewidth = 2, linecolor=:black)\n",
    "plot!(title=\"Plot for graded quiz\")"
   ]
  },
  {
   "cell_type": "code",
   "execution_count": 41,
   "metadata": {},
   "outputs": [],
   "source": [
    "using Plots\n",
    "#pyplot()"
   ]
  },
  {
   "cell_type": "code",
   "execution_count": 42,
   "metadata": {},
   "outputs": [
    {
     "data": {
      "application/vnd.plotly.v1+json": {
       "data": [
        {
         "colorbar": {
          "title": ""
         },
         "line": {
          "color": "rgba(0, 154, 250, 1.000)",
          "dash": "solid",
          "shape": "linear",
          "width": 1
         },
         "mode": "lines",
         "name": "y1",
         "showlegend": true,
         "type": "scatter",
         "x": [
          1,
          2,
          4
         ],
         "xaxis": "x1",
         "y": [
          0,
          100,
          399
         ],
         "yaxis": "y1"
        },
        {
         "colorbar": {
          "title": ""
         },
         "line": {
          "color": "rgba(227, 111, 71, 1.000)",
          "dash": "solid",
          "shape": "linear",
          "width": 1
         },
         "mode": "lines",
         "name": "y2",
         "showlegend": true,
         "type": "scatter",
         "x": [
          1,
          2,
          4
         ],
         "xaxis": "x1",
         "y": [
          4,
          55,
          250
         ],
         "yaxis": "y1"
        }
       ],
       "layout": {
        "annotations": [],
        "height": 400,
        "legend": {
         "bgcolor": "rgba(255, 255, 255, 1.000)",
         "bordercolor": "rgba(0, 0, 0, 1.000)",
         "font": {
          "color": "rgba(0, 0, 0, 1.000)",
          "family": "sans-serif",
          "size": 11
         },
         "x": 1,
         "y": 1
        },
        "margin": {
         "b": 20,
         "l": 0,
         "r": 0,
         "t": 20
        },
        "paper_bgcolor": "rgba(255, 255, 255, 1.000)",
        "plot_bgcolor": "rgba(255, 255, 255, 1.000)",
        "showlegend": true,
        "width": 600,
        "xaxis1": {
         "anchor": "y1",
         "domain": [
          0.05100612423447069,
          0.9934383202099737
         ],
         "gridcolor": "rgba(0, 0, 0, 0.100)",
         "gridwidth": 0.5,
         "linecolor": "rgba(0, 0, 0, 1.000)",
         "mirror": false,
         "range": [
          1,
          4
         ],
         "showgrid": true,
         "showline": true,
         "showticklabels": true,
         "tickangle": 0,
         "tickcolor": "rgb(0, 0, 0)",
         "tickfont": {
          "color": "rgba(0, 0, 0, 1.000)",
          "family": "sans-serif",
          "size": 11
         },
         "tickmode": "array",
         "ticks": "inside",
         "ticktext": [
          "1",
          "2",
          "3",
          "4"
         ],
         "tickvals": [
          1,
          2,
          3,
          4
         ],
         "title": "",
         "titlefont": {
          "color": "rgba(0, 0, 0, 1.000)",
          "family": "sans-serif",
          "size": 15
         },
         "type": "-",
         "visible": true,
         "zeroline": false,
         "zerolinecolor": "rgba(0, 0, 0, 1.000)"
        },
        "yaxis1": {
         "anchor": "x1",
         "domain": [
          0.03762029746281716,
          0.9901574803149606
         ],
         "gridcolor": "rgba(0, 0, 0, 0.100)",
         "gridwidth": 0.5,
         "linecolor": "rgba(0, 0, 0, 1.000)",
         "mirror": false,
         "range": [
          0,
          399
         ],
         "showgrid": true,
         "showline": true,
         "showticklabels": true,
         "tickangle": 0,
         "tickcolor": "rgb(0, 0, 0)",
         "tickfont": {
          "color": "rgba(0, 0, 0, 1.000)",
          "family": "sans-serif",
          "size": 11
         },
         "tickmode": "array",
         "ticks": "inside",
         "ticktext": [
          "0",
          "100",
          "200",
          "300"
         ],
         "tickvals": [
          0,
          100,
          200,
          300
         ],
         "title": "",
         "titlefont": {
          "color": "rgba(0, 0, 0, 1.000)",
          "family": "sans-serif",
          "size": 15
         },
         "type": "-",
         "visible": true,
         "zeroline": false,
         "zerolinecolor": "rgba(0, 0, 0, 1.000)"
        }
       }
      },
      "text/html": [
       "<script src=\"file:///home/nicolas/.julia/v0.6/Plots/src/backends/../../deps/plotly-latest.min.js\"></script>    <div id=\"03f2a682-f56a-4cd8-aa71-86b71f17a440\" style=\"width:600px;height:400px;\"></div>\n",
       "    <script>\n",
       "    PLOT = document.getElementById('03f2a682-f56a-4cd8-aa71-86b71f17a440');\n",
       "    Plotly.plot(PLOT, [{\"showlegend\":true,\"mode\":\"lines\",\"xaxis\":\"x1\",\"colorbar\":{\"title\":\"\"},\"line\":{\"color\":\"rgba(0, 154, 250, 1.000)\",\"shape\":\"linear\",\"dash\":\"solid\",\"width\":1},\"y\":[0,100,399],\"type\":\"scatter\",\"name\":\"y1\",\"yaxis\":\"y1\",\"x\":[1,2,4]},{\"showlegend\":true,\"mode\":\"lines\",\"xaxis\":\"x1\",\"colorbar\":{\"title\":\"\"},\"line\":{\"color\":\"rgba(227, 111, 71, 1.000)\",\"shape\":\"linear\",\"dash\":\"solid\",\"width\":1},\"y\":[4,55,250],\"type\":\"scatter\",\"name\":\"y2\",\"yaxis\":\"y1\",\"x\":[1,2,4]}], {\"showlegend\":true,\"paper_bgcolor\":\"rgba(255, 255, 255, 1.000)\",\"xaxis1\":{\"showticklabels\":true,\"gridwidth\":0.5,\"tickvals\":[1.0,2.0,3.0,4.0],\"visible\":true,\"ticks\":\"inside\",\"range\":[1.0,4.0],\"domain\":[0.05100612423447069,0.9934383202099737],\"tickmode\":\"array\",\"linecolor\":\"rgba(0, 0, 0, 1.000)\",\"showgrid\":true,\"title\":\"\",\"mirror\":false,\"tickangle\":0,\"showline\":true,\"gridcolor\":\"rgba(0, 0, 0, 0.100)\",\"titlefont\":{\"color\":\"rgba(0, 0, 0, 1.000)\",\"family\":\"sans-serif\",\"size\":15},\"tickcolor\":\"rgb(0, 0, 0)\",\"ticktext\":[\"1\",\"2\",\"3\",\"4\"],\"zeroline\":false,\"type\":\"-\",\"tickfont\":{\"color\":\"rgba(0, 0, 0, 1.000)\",\"family\":\"sans-serif\",\"size\":11},\"zerolinecolor\":\"rgba(0, 0, 0, 1.000)\",\"anchor\":\"y1\"},\"annotations\":[],\"height\":400,\"margin\":{\"l\":0,\"b\":20,\"r\":0,\"t\":20},\"plot_bgcolor\":\"rgba(255, 255, 255, 1.000)\",\"yaxis1\":{\"showticklabels\":true,\"gridwidth\":0.5,\"tickvals\":[0.0,100.0,200.0,300.0],\"visible\":true,\"ticks\":\"inside\",\"range\":[0.0,399.0],\"domain\":[0.03762029746281716,0.9901574803149606],\"tickmode\":\"array\",\"linecolor\":\"rgba(0, 0, 0, 1.000)\",\"showgrid\":true,\"title\":\"\",\"mirror\":false,\"tickangle\":0,\"showline\":true,\"gridcolor\":\"rgba(0, 0, 0, 0.100)\",\"titlefont\":{\"color\":\"rgba(0, 0, 0, 1.000)\",\"family\":\"sans-serif\",\"size\":15},\"tickcolor\":\"rgb(0, 0, 0)\",\"ticktext\":[\"0\",\"100\",\"200\",\"300\"],\"zeroline\":false,\"type\":\"-\",\"tickfont\":{\"color\":\"rgba(0, 0, 0, 1.000)\",\"family\":\"sans-serif\",\"size\":11},\"zerolinecolor\":\"rgba(0, 0, 0, 1.000)\",\"anchor\":\"x1\"},\"legend\":{\"bordercolor\":\"rgba(0, 0, 0, 1.000)\",\"bgcolor\":\"rgba(255, 255, 255, 1.000)\",\"font\":{\"color\":\"rgba(0, 0, 0, 1.000)\",\"family\":\"sans-serif\",\"size\":11},\"y\":1.0,\"x\":1.0},\"width\":600});\n",
       "    </script>\n"
      ]
     },
     "execution_count": 42,
     "metadata": {},
     "output_type": "execute_result"
    }
   ],
   "source": [
    "epidemic_day = [1, 2, 4]\n",
    "num_cases_liberia = [0, 100, 399]\n",
    "num_cases_guinea = [4, 55, 250]\n",
    "\n",
    "plot(epidemic_day, [num_cases_liberia, num_cases_guinea])\n",
    "\n",
    "#plot(epidemic_day, num_cases_liberia, num_cases_guinea)"
   ]
  },
  {
   "cell_type": "code",
   "execution_count": null,
   "metadata": {},
   "outputs": [],
   "source": []
  }
 ],
 "metadata": {
  "kernelspec": {
   "display_name": "Julia 0.6.2",
   "language": "julia",
   "name": "julia-0.6"
  },
  "language_info": {
   "file_extension": ".jl",
   "mimetype": "application/julia",
   "name": "julia",
   "version": "0.6.2"
  }
 },
 "nbformat": 4,
 "nbformat_minor": 2
}
