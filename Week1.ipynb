{
 "cells": [
  {
   "cell_type": "code",
   "execution_count": 2,
   "metadata": {},
   "outputs": [
    {
     "name": "stdout",
     "output_type": "stream",
     "text": [
      "Hello, world!\n"
     ]
    }
   ],
   "source": [
    "println(\"Hello, world!\")"
   ]
  },
  {
   "cell_type": "code",
   "execution_count": 3,
   "metadata": {},
   "outputs": [
    {
     "ename": "LoadError",
     "evalue": "\u001b[91mMethodError: no method matching +(::String, ::String)\u001b[0m\nClosest candidates are:\n  +(::Any, ::Any, \u001b[91m::Any\u001b[39m, \u001b[91m::Any...\u001b[39m) at operators.jl:424\u001b[39m",
     "output_type": "error",
     "traceback": [
      "\u001b[91mMethodError: no method matching +(::String, ::String)\u001b[0m\nClosest candidates are:\n  +(::Any, ::Any, \u001b[91m::Any\u001b[39m, \u001b[91m::Any...\u001b[39m) at operators.jl:424\u001b[39m",
      "",
      "Stacktrace:",
      " [1] \u001b[1minclude_string\u001b[22m\u001b[22m\u001b[1m(\u001b[22m\u001b[22m::String, ::String\u001b[1m)\u001b[22m\u001b[22m at \u001b[1m./loading.jl:522\u001b[22m\u001b[22m"
     ]
    }
   ],
   "source": [
    "\"Hey \" + \"There\""
   ]
  },
  {
   "cell_type": "code",
   "execution_count": 4,
   "metadata": {},
   "outputs": [
    {
     "data": {
      "text/plain": [
       "\"Hey There\""
      ]
     },
     "execution_count": 4,
     "metadata": {},
     "output_type": "execute_result"
    }
   ],
   "source": [
    "\"Hey \" * \"There\""
   ]
  },
  {
   "cell_type": "code",
   "execution_count": 6,
   "metadata": {},
   "outputs": [
    {
     "ename": "LoadError",
     "evalue": "\u001b[91msyntax: incomplete: invalid string syntax\u001b[39m",
     "output_type": "error",
     "traceback": [
      "\u001b[91msyntax: incomplete: invalid string syntax\u001b[39m",
      "",
      "Stacktrace:",
      " [1] \u001b[1minclude_string\u001b[22m\u001b[22m\u001b[1m(\u001b[22m\u001b[22m::String, ::String\u001b[1m)\u001b[22m\u001b[22m at \u001b[1m./loading.jl:522\u001b[22m\u001b[22m"
     ]
    }
   ],
   "source": [
    "\"\\\""
   ]
  },
  {
   "cell_type": "code",
   "execution_count": 7,
   "metadata": {},
   "outputs": [
    {
     "ename": "LoadError",
     "evalue": "\u001b[91msyntax: invalid interpolation syntax: \"$\"\"\u001b[39m",
     "output_type": "error",
     "traceback": [
      "\u001b[91msyntax: invalid interpolation syntax: \"$\"\"\u001b[39m",
      "",
      "Stacktrace:",
      " [1] \u001b[1minclude_string\u001b[22m\u001b[22m\u001b[1m(\u001b[22m\u001b[22m::String, ::String\u001b[1m)\u001b[22m\u001b[22m at \u001b[1m./loading.jl:522\u001b[22m\u001b[22m"
     ]
    }
   ],
   "source": [
    "\"$\""
   ]
  },
  {
   "cell_type": "code",
   "execution_count": 8,
   "metadata": {},
   "outputs": [
    {
     "data": {
      "text/plain": [
       "true"
      ]
     },
     "execution_count": 8,
     "metadata": {},
     "output_type": "execute_result"
    }
   ],
   "source": [
    "false && true || true"
   ]
  },
  {
   "cell_type": "code",
   "execution_count": 9,
   "metadata": {},
   "outputs": [
    {
     "data": {
      "text/plain": [
       "false"
      ]
     },
     "execution_count": 9,
     "metadata": {},
     "output_type": "execute_result"
    }
   ],
   "source": [
    "false && true"
   ]
  },
  {
   "cell_type": "code",
   "execution_count": 10,
   "metadata": {},
   "outputs": [
    {
     "data": {
      "text/plain": [
       "true"
      ]
     },
     "execution_count": 10,
     "metadata": {},
     "output_type": "execute_result"
    }
   ],
   "source": [
    "false || true"
   ]
  },
  {
   "cell_type": "code",
   "execution_count": 11,
   "metadata": {},
   "outputs": [
    {
     "data": {
      "text/plain": [
       "84.0"
      ]
     },
     "execution_count": 11,
     "metadata": {},
     "output_type": "execute_result"
    }
   ],
   "source": [
    "5040 / 60"
   ]
  },
  {
   "cell_type": "code",
   "execution_count": 13,
   "metadata": {},
   "outputs": [
    {
     "data": {
      "text/plain": [
       "true"
      ]
     },
     "execution_count": 13,
     "metadata": {},
     "output_type": "execute_result"
    }
   ],
   "source": [
    "1+3<5||2+2<1"
   ]
  },
  {
   "cell_type": "code",
   "execution_count": 15,
   "metadata": {},
   "outputs": [
    {
     "data": {
      "text/plain": [
       "true"
      ]
     },
     "execution_count": 15,
     "metadata": {},
     "output_type": "execute_result"
    }
   ],
   "source": [
    "# First expression\n",
    "3 & 5 > 0 "
   ]
  },
  {
   "cell_type": "code",
   "execution_count": 14,
   "metadata": {},
   "outputs": [
    {
     "data": {
      "text/plain": [
       "false"
      ]
     },
     "execution_count": 14,
     "metadata": {},
     "output_type": "execute_result"
    }
   ],
   "source": [
    "# Second expression \n",
    "8 & 5 > 0"
   ]
  },
  {
   "cell_type": "code",
   "execution_count": 16,
   "metadata": {},
   "outputs": [
    {
     "data": {
      "text/plain": [
       "1"
      ]
     },
     "execution_count": 16,
     "metadata": {},
     "output_type": "execute_result"
    }
   ],
   "source": [
    "3&5"
   ]
  },
  {
   "cell_type": "code",
   "execution_count": 17,
   "metadata": {},
   "outputs": [
    {
     "data": {
      "text/plain": [
       "0"
      ]
     },
     "execution_count": 17,
     "metadata": {},
     "output_type": "execute_result"
    }
   ],
   "source": [
    "8&5"
   ]
  },
  {
   "cell_type": "code",
   "execution_count": 19,
   "metadata": {},
   "outputs": [
    {
     "data": {
      "text/plain": [
       "1"
      ]
     },
     "execution_count": 19,
     "metadata": {},
     "output_type": "execute_result"
    }
   ],
   "source": [
    "α = 1"
   ]
  },
  {
   "cell_type": "code",
   "execution_count": 20,
   "metadata": {},
   "outputs": [
    {
     "data": {
      "text/plain": [
       "1"
      ]
     },
     "execution_count": 20,
     "metadata": {},
     "output_type": "execute_result"
    }
   ],
   "source": [
    "α"
   ]
  },
  {
   "cell_type": "code",
   "execution_count": 21,
   "metadata": {},
   "outputs": [
    {
     "data": {
      "text/plain": [
       "false"
      ]
     },
     "execution_count": 21,
     "metadata": {},
     "output_type": "execute_result"
    }
   ],
   "source": [
    "'a'===\"a\" "
   ]
  },
  {
   "cell_type": "code",
   "execution_count": 2,
   "metadata": {},
   "outputs": [
    {
     "data": {
      "text/plain": [
       "Array{Int64,2}"
      ]
     },
     "execution_count": 2,
     "metadata": {},
     "output_type": "execute_result"
    }
   ],
   "source": [
    "x = Array(Int64, 11, 12)\n",
    "#x = Array{Int64}(11, 12)\n",
    "typeof(x)"
   ]
  },
  {
   "cell_type": "code",
   "execution_count": 1,
   "metadata": {},
   "outputs": [
    {
     "name": "stdout",
     "output_type": "stream",
     "text": [
      "search: \u001b[1ms\u001b[22m\u001b[1mi\u001b[22m\u001b[1mz\u001b[22m\u001b[1me\u001b[22m \u001b[1ms\u001b[22m\u001b[1mi\u001b[22m\u001b[1mz\u001b[22m\u001b[1me\u001b[22mof \u001b[1ms\u001b[22m\u001b[1mi\u001b[22m\u001b[1mz\u001b[22m\u001b[1me\u001b[22mhint \u001b[1ms\u001b[22m\u001b[1mi\u001b[22m\u001b[1mz\u001b[22m\u001b[1me\u001b[22mhint! C\u001b[1ms\u001b[22m\u001b[1mi\u001b[22m\u001b[1mz\u001b[22m\u001b[1me\u001b[22m_t re\u001b[1ms\u001b[22m\u001b[1mi\u001b[22m\u001b[1mz\u001b[22m\u001b[1me\u001b[22m! file\u001b[1ms\u001b[22m\u001b[1mi\u001b[22m\u001b[1mz\u001b[22m\u001b[1me\u001b[22m C\u001b[1ms\u001b[22ms\u001b[1mi\u001b[22m\u001b[1mz\u001b[22m\u001b[1me\u001b[22m_t\n",
      "\n"
     ]
    },
    {
     "data": {
      "text/markdown": [
       "```\n",
       "size(A, [dim...])\n",
       "```\n",
       "\n",
       "Returns a tuple containing the dimensions of `A`. Optionally you can specify the dimension(s) you want the length of, and get the length of that dimension, or a tuple of the lengths of dimensions you asked for.:\n",
       "\n",
       "```\n",
       "julia> A = rand(2,3,4);\n",
       "\n",
       "julia> size(A, 2)\n",
       "3\n",
       "\n",
       "julia> size(A,3,2)\n",
       "(4,3)\n",
       "```\n"
      ],
      "text/plain": [
       "```\n",
       "size(A, [dim...])\n",
       "```\n",
       "\n",
       "Returns a tuple containing the dimensions of `A`. Optionally you can specify the dimension(s) you want the length of, and get the length of that dimension, or a tuple of the lengths of dimensions you asked for.:\n",
       "\n",
       "```\n",
       "julia> A = rand(2,3,4);\n",
       "\n",
       "julia> size(A, 2)\n",
       "3\n",
       "\n",
       "julia> size(A,3,2)\n",
       "(4,3)\n",
       "```\n"
      ]
     },
     "execution_count": 1,
     "metadata": {},
     "output_type": "execute_result"
    }
   ],
   "source": [
    "?size"
   ]
  },
  {
   "cell_type": "code",
   "execution_count": 2,
   "metadata": {},
   "outputs": [
    {
     "name": "stdout",
     "output_type": "stream",
     "text": [
      "search: \u001b[1m\\\u001b[22m .\u001b[1m\\\u001b[22m\n",
      "\n"
     ]
    },
    {
     "data": {
      "text/markdown": [
       "```rst\n",
       "..  \\\\(A, B)\n",
       "\n",
       "Matrix division using a polyalgorithm. For input matrices ``A`` and ``B``, the result ``X`` is such that ``A*X == B`` when ``A`` is square.  The solver that is used depends upon the structure of ``A``.  A direct solver is used for upper or lower triangular ``A``.  For Hermitian ``A`` (equivalent to symmetric ``A`` for non-complex ``A``) the ``BunchKaufman`` factorization is used.  Otherwise an LU factorization is used. For rectangular ``A`` the result is the minimum-norm least squares solution computed by a pivoted QR factorization of ``A`` and a rank estimate of ``A`` based on the R factor.\n",
       "\n",
       "When ``A`` is sparse, a similar polyalgorithm is used. For indefinite matrices, the ``LDLt`` factorization does not use pivoting during the numerical factorization and therefore the procedure can fail even for invertible matrices.\n",
       "```\n",
       "\n",
       "```rst\n",
       "..  \\\\(x, y)\n",
       "\n",
       "Left division operator: multiplication of ``y`` by the inverse of ``x`` on the left.\n",
       "Gives floating-point results for integer arguments.\n",
       "```\n"
      ],
      "text/plain": [
       "```rst\n",
       "..  \\\\(A, B)\n",
       "\n",
       "Matrix division using a polyalgorithm. For input matrices ``A`` and ``B``, the result ``X`` is such that ``A*X == B`` when ``A`` is square.  The solver that is used depends upon the structure of ``A``.  A direct solver is used for upper or lower triangular ``A``.  For Hermitian ``A`` (equivalent to symmetric ``A`` for non-complex ``A``) the ``BunchKaufman`` factorization is used.  Otherwise an LU factorization is used. For rectangular ``A`` the result is the minimum-norm least squares solution computed by a pivoted QR factorization of ``A`` and a rank estimate of ``A`` based on the R factor.\n",
       "\n",
       "When ``A`` is sparse, a similar polyalgorithm is used. For indefinite matrices, the ``LDLt`` factorization does not use pivoting during the numerical factorization and therefore the procedure can fail even for invertible matrices.\n",
       "```\n",
       "\n",
       "```rst\n",
       "..  \\\\(x, y)\n",
       "\n",
       "Left division operator: multiplication of ``y`` by the inverse of ``x`` on the left.\n",
       "Gives floating-point results for integer arguments.\n",
       "```\n"
      ]
     },
     "execution_count": 2,
     "metadata": {},
     "output_type": "execute_result"
    }
   ],
   "source": [
    "?\\"
   ]
  },
  {
   "cell_type": "code",
   "execution_count": 3,
   "metadata": {},
   "outputs": [
    {
     "data": {
      "text/html": [
       "60 methods for generic function <b>\\</b>:<ul><li> \\(x::<b>Number</b>, A::<b>UpperTriangular{T,S<:AbstractArray{T,2}}</b>) at <a href=\"https://github.com/JuliaLang/julia/tree/2ac304dfba75fad148d4070ef4f8a2e400c305bb/base/linalg/triangular.jl#L485\" target=\"_blank\">linalg/triangular.jl:485</a><li> \\(x::<b>Number</b>, A::<b>Base.LinAlg.UnitUpperTriangular{T,S<:AbstractArray{T,2}}</b>) at <a href=\"https://github.com/JuliaLang/julia/tree/2ac304dfba75fad148d4070ef4f8a2e400c305bb/base/linalg/triangular.jl#L488\" target=\"_blank\">linalg/triangular.jl:488</a><li> \\(x::<b>Number</b>, A::<b>LowerTriangular{T,S<:AbstractArray{T,2}}</b>) at <a href=\"https://github.com/JuliaLang/julia/tree/2ac304dfba75fad148d4070ef4f8a2e400c305bb/base/linalg/triangular.jl#L485\" target=\"_blank\">linalg/triangular.jl:485</a><li> \\(x::<b>Number</b>, A::<b>Base.LinAlg.UnitLowerTriangular{T,S<:AbstractArray{T,2}}</b>) at <a href=\"https://github.com/JuliaLang/julia/tree/2ac304dfba75fad148d4070ef4f8a2e400c305bb/base/linalg/triangular.jl#L488\" target=\"_blank\">linalg/triangular.jl:488</a><li> \\(A::<b>Number</b>, B::<b>AbstractArray{T,N}</b>) at <a href=\"https://github.com/JuliaLang/julia/tree/2ac304dfba75fad148d4070ef4f8a2e400c305bb/base/abstractarraymath.jl#L59\" target=\"_blank\">abstractarraymath.jl:59</a><li> \\(A::<b>BitArray{N}</b>, B::<b>BitArray{N}</b>) at <a href=\"https://github.com/JuliaLang/julia/tree/2ac304dfba75fad148d4070ef4f8a2e400c305bb/base/bitarray.jl#L869\" target=\"_blank\">bitarray.jl:869</a><li> \\(a::<b>Float16</b>, b::<b>Float16</b>) at <a href=\"https://github.com/JuliaLang/julia/tree/2ac304dfba75fad148d4070ef4f8a2e400c305bb/base/float16.jl#L136\" target=\"_blank\">float16.jl:136</a><li> \\(a::<b>Array{T,1}</b>, B::<b>Union{DenseArray{T,1},DenseArray{T,2},SubArray{T,1,A<:DenseArray{T,N},I<:Tuple{Vararg{Union{Colon,Int64,Range{Int64}}}},LD},SubArray{T,2,A<:DenseArray{T,N},I<:Tuple{Vararg{Union{Colon,Int64,Range{Int64}}}},LD}}</b>) at <a href=\"https://github.com/JuliaLang/julia/tree/2ac304dfba75fad148d4070ef4f8a2e400c305bb/base/linalg/dense.jl#L439\" target=\"_blank\">linalg/dense.jl:439</a><li> \\(A::<b>Union{DenseArray{T,2},SubArray{T,2,A<:DenseArray{T,N},I<:Tuple{Vararg{Union{Colon,Int64,Range{Int64}}}},LD}}</b>, B::<b>Union{DenseArray{T,1},DenseArray{T,2},SubArray{T,1,A<:DenseArray{T,N},I<:Tuple{Vararg{Union{Colon,Int64,Range{Int64}}}},LD},SubArray{T,2,A<:DenseArray{T,N},I<:Tuple{Vararg{Union{Colon,Int64,Range{Int64}}}},LD}}</b>) at <a href=\"https://github.com/JuliaLang/julia/tree/2ac304dfba75fad148d4070ef4f8a2e400c305bb/base/linalg/dense.jl#L442\" target=\"_blank\">linalg/dense.jl:442</a><li> \\(A::<b>Base.LinAlg.AbstractTriangular{T,S<:AbstractArray{T,2}}</b>, B::<b>Base.LinAlg.AbstractTriangular{T,S<:AbstractArray{T,2}}</b>) at <a href=\"https://github.com/JuliaLang/julia/tree/2ac304dfba75fad148d4070ef4f8a2e400c305bb/base/linalg/triangular.jl#L975\" target=\"_blank\">linalg/triangular.jl:975</a><li> \\<i>{TA,TB,S}</i>(A::<b>Union{Base.LinAlg.UnitLowerTriangular{TA,S},Base.LinAlg.UnitUpperTriangular{TA,S}}</b>, B::<b>Union{DenseArray{TB,1},DenseArray{TB,2},SubArray{TB,1,A<:DenseArray{T,N},I<:Tuple{Vararg{Union{Colon,Int64,Range{Int64}}}},LD},SubArray{TB,2,A<:DenseArray{T,N},I<:Tuple{Vararg{Union{Colon,Int64,Range{Int64}}}},LD}}</b>) at <a href=\"https://github.com/JuliaLang/julia/tree/2ac304dfba75fad148d4070ef4f8a2e400c305bb/base/linalg/triangular.jl#L998\" target=\"_blank\">linalg/triangular.jl:998</a><li> \\<i>{TA,TB,S}</i>(A::<b>Union{LowerTriangular{TA,S},UpperTriangular{TA,S}}</b>, B::<b>Union{DenseArray{TB,1},DenseArray{TB,2},SubArray{TB,1,A<:DenseArray{T,N},I<:Tuple{Vararg{Union{Colon,Int64,Range{Int64}}}},LD},SubArray{TB,2,A<:DenseArray{T,N},I<:Tuple{Vararg{Union{Colon,Int64,Range{Int64}}}},LD}}</b>) at <a href=\"https://github.com/JuliaLang/julia/tree/2ac304dfba75fad148d4070ef4f8a2e400c305bb/base/linalg/triangular.jl#L1007\" target=\"_blank\">linalg/triangular.jl:1007</a><li> \\<i>{T,S<:Union{DenseArray{T,2},SubArray{T,2,A<:DenseArray{T,N},I<:Tuple{Vararg{Union{Colon,Int64,Range{Int64}}}},LD}}}</i>(A::<b>Union{Hermitian{T,S<:Union{DenseArray{T,2},SubArray{T,2,A<:DenseArray{T,N},I<:Tuple{Vararg{Union{Colon,Int64,Range{Int64}}}},LD}}},Symmetric{T,S<:Union{DenseArray{T,2},SubArray{T,2,A<:DenseArray{T,N},I<:Tuple{Vararg{Union{Colon,Int64,Range{Int64}}}},LD}}}}</b>, B::<b>Union{DenseArray{T,1},DenseArray{T,2},SubArray{T,1,A<:DenseArray{T,N},I<:Tuple{Vararg{Union{Colon,Int64,Range{Int64}}}},LD},SubArray{T,2,A<:DenseArray{T,N},I<:Tuple{Vararg{Union{Colon,Int64,Range{Int64}}}},LD}}</b>) at <a href=\"https://github.com/JuliaLang/julia/tree/2ac304dfba75fad148d4070ef4f8a2e400c305bb/base/linalg/symmetric.jl#L121\" target=\"_blank\">linalg/symmetric.jl:121</a><li> \\(D::<b>Diagonal{T}</b>, B::<b>Union{DenseArray{T,2},SubArray{T,2,A<:DenseArray{T,N},I<:Tuple{Vararg{Union{Colon,Int64,Range{Int64}}}},LD}}</b>) at <a href=\"https://github.com/JuliaLang/julia/tree/2ac304dfba75fad148d4070ef4f8a2e400c305bb/base/linalg/diagonal.jl#L166\" target=\"_blank\">linalg/diagonal.jl:166</a><li> \\(D::<b>Diagonal{T}</b>, b::<b>Union{DenseArray{T,1},SubArray{T,1,A<:DenseArray{T,N},I<:Tuple{Vararg{Union{Colon,Int64,Range{Int64}}}},LD}}</b>) at <a href=\"https://github.com/JuliaLang/julia/tree/2ac304dfba75fad148d4070ef4f8a2e400c305bb/base/linalg/diagonal.jl#L167\" target=\"_blank\">linalg/diagonal.jl:167</a><li> \\(Da::<b>Diagonal{T}</b>, Db::<b>Diagonal{T}</b>) at <a href=\"https://github.com/JuliaLang/julia/tree/2ac304dfba75fad148d4070ef4f8a2e400c305bb/base/linalg/diagonal.jl#L168\" target=\"_blank\">linalg/diagonal.jl:168</a><li> \\<i>{T,S}</i>(A::<b>Bidiagonal{T}</b>, B::<b>Union{AbstractArray{S,1},AbstractArray{S,2}}</b>) at <a href=\"https://github.com/JuliaLang/julia/tree/2ac304dfba75fad148d4070ef4f8a2e400c305bb/base/linalg/bidiag.jl#L266\" target=\"_blank\">linalg/bidiag.jl:266</a><li> \\<i>{T,Ti}</i>(L::<b>LowerTriangular{T,SparseMatrixCSC{T,Ti}}</b>, B::<b>SparseMatrixCSC{Tv,Ti<:Integer}</b>) at <a href=\"https://github.com/JuliaLang/julia/tree/2ac304dfba75fad148d4070ef4f8a2e400c305bb/base/sparse/linalg.jl#L275\" target=\"_blank\">sparse/linalg.jl:275</a><li> \\<i>{T,Ti}</i>(U::<b>UpperTriangular{T,SparseMatrixCSC{T,Ti}}</b>, B::<b>SparseMatrixCSC{Tv,Ti<:Integer}</b>) at <a href=\"https://github.com/JuliaLang/julia/tree/2ac304dfba75fad148d4070ef4f8a2e400c305bb/base/sparse/linalg.jl#L276\" target=\"_blank\">sparse/linalg.jl:276</a><li> \\<i>{T}</i>(L::<b>Base.SparseMatrix.CHOLMOD.FactorComponent{T,:L}</b>, B::<b>Base.SparseMatrix.CHOLMOD.Dense{T<:Union{Complex{Float64},Float64}}</b>) at <a href=\"https://github.com/JuliaLang/julia/tree/2ac304dfba75fad148d4070ef4f8a2e400c305bb/base/sparse/cholmod.jl#L1277\" target=\"_blank\">sparse/cholmod.jl:1277</a><li> \\<i>{T}</i>(L::<b>Base.SparseMatrix.CHOLMOD.FactorComponent{T,:U}</b>, B::<b>Base.SparseMatrix.CHOLMOD.Dense{T<:Union{Complex{Float64},Float64}}</b>) at <a href=\"https://github.com/JuliaLang/julia/tree/2ac304dfba75fad148d4070ef4f8a2e400c305bb/base/sparse/cholmod.jl#L1280\" target=\"_blank\">sparse/cholmod.jl:1280</a><li> \\<i>{T}</i>(L::<b>Base.SparseMatrix.CHOLMOD.FactorComponent{T,:PtL}</b>, B::<b>Base.SparseMatrix.CHOLMOD.Dense{T<:Union{Complex{Float64},Float64}}</b>) at <a href=\"https://github.com/JuliaLang/julia/tree/2ac304dfba75fad148d4070ef4f8a2e400c305bb/base/sparse/cholmod.jl#L1284\" target=\"_blank\">sparse/cholmod.jl:1284</a><li> \\<i>{T}</i>(L::<b>Base.SparseMatrix.CHOLMOD.FactorComponent{T,:UP}</b>, B::<b>Base.SparseMatrix.CHOLMOD.Dense{T<:Union{Complex{Float64},Float64}}</b>) at <a href=\"https://github.com/JuliaLang/julia/tree/2ac304dfba75fad148d4070ef4f8a2e400c305bb/base/sparse/cholmod.jl#L1288\" target=\"_blank\">sparse/cholmod.jl:1288</a><li> \\<i>{T}</i>(L::<b>Base.SparseMatrix.CHOLMOD.FactorComponent{T,:D}</b>, B::<b>Base.SparseMatrix.CHOLMOD.Dense{T<:Union{Complex{Float64},Float64}}</b>) at <a href=\"https://github.com/JuliaLang/julia/tree/2ac304dfba75fad148d4070ef4f8a2e400c305bb/base/sparse/cholmod.jl#L1293\" target=\"_blank\">sparse/cholmod.jl:1293</a><li> \\<i>{T}</i>(L::<b>Base.SparseMatrix.CHOLMOD.FactorComponent{T,:LD}</b>, B::<b>Base.SparseMatrix.CHOLMOD.Dense{T<:Union{Complex{Float64},Float64}}</b>) at <a href=\"https://github.com/JuliaLang/julia/tree/2ac304dfba75fad148d4070ef4f8a2e400c305bb/base/sparse/cholmod.jl#L1296\" target=\"_blank\">sparse/cholmod.jl:1296</a><li> \\<i>{T}</i>(L::<b>Base.SparseMatrix.CHOLMOD.FactorComponent{T,:DU}</b>, B::<b>Base.SparseMatrix.CHOLMOD.Dense{T<:Union{Complex{Float64},Float64}}</b>) at <a href=\"https://github.com/JuliaLang/julia/tree/2ac304dfba75fad148d4070ef4f8a2e400c305bb/base/sparse/cholmod.jl#L1299\" target=\"_blank\">sparse/cholmod.jl:1299</a><li> \\<i>{T}</i>(L::<b>Base.SparseMatrix.CHOLMOD.FactorComponent{T,:PtLD}</b>, B::<b>Base.SparseMatrix.CHOLMOD.Dense{T<:Union{Complex{Float64},Float64}}</b>) at <a href=\"https://github.com/JuliaLang/julia/tree/2ac304dfba75fad148d4070ef4f8a2e400c305bb/base/sparse/cholmod.jl#L1302\" target=\"_blank\">sparse/cholmod.jl:1302</a><li> \\<i>{T}</i>(L::<b>Base.SparseMatrix.CHOLMOD.FactorComponent{T,:DUP}</b>, B::<b>Base.SparseMatrix.CHOLMOD.Dense{T<:Union{Complex{Float64},Float64}}</b>) at <a href=\"https://github.com/JuliaLang/julia/tree/2ac304dfba75fad148d4070ef4f8a2e400c305bb/base/sparse/cholmod.jl#L1306\" target=\"_blank\">sparse/cholmod.jl:1306</a><li> \\<i>{T}</i>(L::<b>Base.SparseMatrix.CHOLMOD.FactorComponent{T,:L}</b>, B::<b>Base.SparseMatrix.CHOLMOD.Sparse{Tv<:Union{Complex{Float64},Float64}}</b>) at <a href=\"https://github.com/JuliaLang/julia/tree/2ac304dfba75fad148d4070ef4f8a2e400c305bb/base/sparse/cholmod.jl#L1277\" target=\"_blank\">sparse/cholmod.jl:1277</a><li> \\<i>{T}</i>(L::<b>Base.SparseMatrix.CHOLMOD.FactorComponent{T,:U}</b>, B::<b>Base.SparseMatrix.CHOLMOD.Sparse{Tv<:Union{Complex{Float64},Float64}}</b>) at <a href=\"https://github.com/JuliaLang/julia/tree/2ac304dfba75fad148d4070ef4f8a2e400c305bb/base/sparse/cholmod.jl#L1280\" target=\"_blank\">sparse/cholmod.jl:1280</a><li> \\<i>{T}</i>(L::<b>Base.SparseMatrix.CHOLMOD.FactorComponent{T,:PtL}</b>, B::<b>Base.SparseMatrix.CHOLMOD.Sparse{Tv<:Union{Complex{Float64},Float64}}</b>) at <a href=\"https://github.com/JuliaLang/julia/tree/2ac304dfba75fad148d4070ef4f8a2e400c305bb/base/sparse/cholmod.jl#L1284\" target=\"_blank\">sparse/cholmod.jl:1284</a><li> \\<i>{T}</i>(L::<b>Base.SparseMatrix.CHOLMOD.FactorComponent{T,:UP}</b>, B::<b>Base.SparseMatrix.CHOLMOD.Sparse{Tv<:Union{Complex{Float64},Float64}}</b>) at <a href=\"https://github.com/JuliaLang/julia/tree/2ac304dfba75fad148d4070ef4f8a2e400c305bb/base/sparse/cholmod.jl#L1288\" target=\"_blank\">sparse/cholmod.jl:1288</a><li> \\<i>{T}</i>(L::<b>Base.SparseMatrix.CHOLMOD.FactorComponent{T,:D}</b>, B::<b>Base.SparseMatrix.CHOLMOD.Sparse{Tv<:Union{Complex{Float64},Float64}}</b>) at <a href=\"https://github.com/JuliaLang/julia/tree/2ac304dfba75fad148d4070ef4f8a2e400c305bb/base/sparse/cholmod.jl#L1293\" target=\"_blank\">sparse/cholmod.jl:1293</a><li> \\<i>{T}</i>(L::<b>Base.SparseMatrix.CHOLMOD.FactorComponent{T,:LD}</b>, B::<b>Base.SparseMatrix.CHOLMOD.Sparse{Tv<:Union{Complex{Float64},Float64}}</b>) at <a href=\"https://github.com/JuliaLang/julia/tree/2ac304dfba75fad148d4070ef4f8a2e400c305bb/base/sparse/cholmod.jl#L1296\" target=\"_blank\">sparse/cholmod.jl:1296</a><li> \\<i>{T}</i>(L::<b>Base.SparseMatrix.CHOLMOD.FactorComponent{T,:DU}</b>, B::<b>Base.SparseMatrix.CHOLMOD.Sparse{Tv<:Union{Complex{Float64},Float64}}</b>) at <a href=\"https://github.com/JuliaLang/julia/tree/2ac304dfba75fad148d4070ef4f8a2e400c305bb/base/sparse/cholmod.jl#L1299\" target=\"_blank\">sparse/cholmod.jl:1299</a><li> \\<i>{T}</i>(L::<b>Base.SparseMatrix.CHOLMOD.FactorComponent{T,:PtLD}</b>, B::<b>Base.SparseMatrix.CHOLMOD.Sparse{Tv<:Union{Complex{Float64},Float64}}</b>) at <a href=\"https://github.com/JuliaLang/julia/tree/2ac304dfba75fad148d4070ef4f8a2e400c305bb/base/sparse/cholmod.jl#L1302\" target=\"_blank\">sparse/cholmod.jl:1302</a><li> \\<i>{T}</i>(L::<b>Base.SparseMatrix.CHOLMOD.FactorComponent{T,:DUP}</b>, B::<b>Base.SparseMatrix.CHOLMOD.Sparse{Tv<:Union{Complex{Float64},Float64}}</b>) at <a href=\"https://github.com/JuliaLang/julia/tree/2ac304dfba75fad148d4070ef4f8a2e400c305bb/base/sparse/cholmod.jl#L1306\" target=\"_blank\">sparse/cholmod.jl:1306</a><li> \\(L::<b>Base.SparseMatrix.CHOLMOD.FactorComponent{Tv,S}</b>, b::<b>Array{T,1}</b>) at <a href=\"https://github.com/JuliaLang/julia/tree/2ac304dfba75fad148d4070ef4f8a2e400c305bb/base/sparse/cholmod.jl#L1313\" target=\"_blank\">sparse/cholmod.jl:1313</a><li> \\(L::<b>Base.SparseMatrix.CHOLMOD.FactorComponent{Tv,S}</b>, B::<b>Array{T,2}</b>) at <a href=\"https://github.com/JuliaLang/julia/tree/2ac304dfba75fad148d4070ef4f8a2e400c305bb/base/sparse/cholmod.jl#L1316\" target=\"_blank\">sparse/cholmod.jl:1316</a><li> \\(L::<b>Base.SparseMatrix.CHOLMOD.FactorComponent{Tv,S}</b>, B::<b>SparseMatrixCSC{Tv,Ti<:Integer}</b>) at <a href=\"https://github.com/JuliaLang/julia/tree/2ac304dfba75fad148d4070ef4f8a2e400c305bb/base/sparse/cholmod.jl#L1319\" target=\"_blank\">sparse/cholmod.jl:1319</a><li> \\<i>{T}</i>(A::<b>AbstractArray{T,2}</b>, B::<b>Union{AbstractArray{T,1},AbstractArray{T,2}}</b>) at <a href=\"https://github.com/JuliaLang/julia/tree/2ac304dfba75fad148d4070ef4f8a2e400c305bb/base/linalg/generic.jl#L323\" target=\"_blank\">linalg/generic.jl:323</a><li> \\<i>{TA,TB}</i>(A::<b>AbstractArray{TA,2}</b>, B::<b>Union{AbstractArray{TB,1},AbstractArray{TB,2}}</b>) at <a href=\"https://github.com/JuliaLang/julia/tree/2ac304dfba75fad148d4070ef4f8a2e400c305bb/base/linalg/generic.jl#L329\" target=\"_blank\">linalg/generic.jl:329</a><li> \\(a::<b>AbstractArray{T,1}</b>, b::<b>AbstractArray{T,N}</b>) at <a href=\"https://github.com/JuliaLang/julia/tree/2ac304dfba75fad148d4070ef4f8a2e400c305bb/base/linalg/generic.jl#L333\" target=\"_blank\">linalg/generic.jl:333</a><li> \\<i>{TA,Tb}</i>(A::<b>Union{Base.LinAlg.QRCompactWY{TA,M<:AbstractArray{T,2}},Base.LinAlg.QRPivoted{TA,S<:AbstractArray{T,2}},Base.LinAlg.QR{TA,S<:AbstractArray{T,2}}}</b>, b::<b>Union{DenseArray{Tb,1},SubArray{Tb,1,A<:DenseArray{T,N},I<:Tuple{Vararg{Union{Colon,Int64,Range{Int64}}}},LD}}</b>) at <a href=\"https://github.com/JuliaLang/julia/tree/2ac304dfba75fad148d4070ef4f8a2e400c305bb/base/linalg/qr.jl#L393\" target=\"_blank\">linalg/qr.jl:393</a><li> \\<i>{TA,TB}</i>(A::<b>Union{Base.LinAlg.QRCompactWY{TA,M<:AbstractArray{T,2}},Base.LinAlg.QRPivoted{TA,S<:AbstractArray{T,2}},Base.LinAlg.QR{TA,S<:AbstractArray{T,2}}}</b>, B::<b>Union{DenseArray{TB,2},SubArray{TB,2,A<:DenseArray{T,N},I<:Tuple{Vararg{Union{Colon,Int64,Range{Int64}}}},LD}}</b>) at <a href=\"https://github.com/JuliaLang/julia/tree/2ac304dfba75fad148d4070ef4f8a2e400c305bb/base/linalg/qr.jl#L405\" target=\"_blank\">linalg/qr.jl:405</a><li> \\(L::<b>Base.SparseMatrix.CHOLMOD.Factor{Tv}</b>, B::<b>Base.SparseMatrix.CHOLMOD.Dense{T<:Union{Complex{Float64},Float64}}</b>) at <a href=\"https://github.com/JuliaLang/julia/tree/2ac304dfba75fad148d4070ef4f8a2e400c305bb/base/sparse/cholmod.jl#L1324\" target=\"_blank\">sparse/cholmod.jl:1324</a><li> \\(L::<b>Base.SparseMatrix.CHOLMOD.Factor{Tv}</b>, b::<b>Array{T,1}</b>) at <a href=\"https://github.com/JuliaLang/julia/tree/2ac304dfba75fad148d4070ef4f8a2e400c305bb/base/sparse/cholmod.jl#L1325\" target=\"_blank\">sparse/cholmod.jl:1325</a><li> \\(L::<b>Base.SparseMatrix.CHOLMOD.Factor{Tv}</b>, B::<b>Array{T,2}</b>) at <a href=\"https://github.com/JuliaLang/julia/tree/2ac304dfba75fad148d4070ef4f8a2e400c305bb/base/sparse/cholmod.jl#L1326\" target=\"_blank\">sparse/cholmod.jl:1326</a><li> \\(L::<b>Base.SparseMatrix.CHOLMOD.Factor{Tv}</b>, B::<b>Base.SparseMatrix.CHOLMOD.Sparse{Tv<:Union{Complex{Float64},Float64}}</b>) at <a href=\"https://github.com/JuliaLang/julia/tree/2ac304dfba75fad148d4070ef4f8a2e400c305bb/base/sparse/cholmod.jl#L1327\" target=\"_blank\">sparse/cholmod.jl:1327</a><li> \\(L::<b>Base.SparseMatrix.CHOLMOD.Factor{Tv}</b>, B::<b>SparseMatrixCSC{Tv,Ti<:Integer}</b>) at <a href=\"https://github.com/JuliaLang/julia/tree/2ac304dfba75fad148d4070ef4f8a2e400c305bb/base/sparse/cholmod.jl#L1329\" target=\"_blank\">sparse/cholmod.jl:1329</a><li> \\<i>{T}</i>(F::<b>Base.SparseMatrix.SPQR.Factorization{T}</b>, B::<b>Union{DenseArray{T,1},DenseArray{T,2},SubArray{T,1,A<:DenseArray{T,N},I<:Tuple{Vararg{Union{Colon,Int64,Range{Int64}}}},LD},SubArray{T,2,A<:DenseArray{T,N},I<:Tuple{Vararg{Union{Colon,Int64,Range{Int64}}}},LD}}</b>) at <a href=\"https://github.com/JuliaLang/julia/tree/2ac304dfba75fad148d4070ef4f8a2e400c305bb/base/sparse/spqr.jl#L142\" target=\"_blank\">sparse/spqr.jl:142</a><li> \\<i>{T,S}</i>(F::<b>Base.SparseMatrix.SPQR.Factorization{T}</b>, B::<b>Union{DenseArray{S,1},DenseArray{S,2},SubArray{S,1,A<:DenseArray{T,N},I<:Tuple{Vararg{Union{Colon,Int64,Range{Int64}}}},LD},SubArray{S,2,A<:DenseArray{T,N},I<:Tuple{Vararg{Union{Colon,Int64,Range{Int64}}}},LD}}</b>) at <a href=\"https://github.com/JuliaLang/julia/tree/2ac304dfba75fad148d4070ef4f8a2e400c305bb/base/sparse/spqr.jl#L145\" target=\"_blank\">sparse/spqr.jl:145</a><li> \\<i>{TF<:Number,TB<:Number,N}</i>(F::<b>Factorization{TF<:Number}</b>, B::<b>AbstractArray{TB<:Number,N}</b>) at <a href=\"https://github.com/JuliaLang/julia/tree/2ac304dfba75fad148d4070ef4f8a2e400c305bb/base/linalg/factorization.jl#L24\" target=\"_blank\">linalg/factorization.jl:24</a><li> \\(J1::<b>UniformScaling{T<:Number}</b>, J2::<b>UniformScaling{T<:Number}</b>) at <a href=\"https://github.com/JuliaLang/julia/tree/2ac304dfba75fad148d4070ef4f8a2e400c305bb/base/linalg/uniformscaling.jl#L136\" target=\"_blank\">linalg/uniformscaling.jl:136</a><li> \\<i>{T<:Number}</i>(A::<b>Union{Base.LinAlg.AbstractTriangular{T<:Number,S<:AbstractArray{T,2}},Bidiagonal{T<:Number}}</b>, J::<b>UniformScaling{T<:Number}</b>) at <a href=\"https://github.com/JuliaLang/julia/tree/2ac304dfba75fad148d4070ef4f8a2e400c305bb/base/linalg/uniformscaling.jl#L137\" target=\"_blank\">linalg/uniformscaling.jl:137</a><li> \\(J::<b>UniformScaling{T<:Number}</b>, A::<b>Union{AbstractArray{T,1},AbstractArray{T,2}}</b>) at <a href=\"https://github.com/JuliaLang/julia/tree/2ac304dfba75fad148d4070ef4f8a2e400c305bb/base/linalg/uniformscaling.jl#L138\" target=\"_blank\">linalg/uniformscaling.jl:138</a><li> \\(A::<b>AbstractArray{T,2}</b>, J::<b>UniformScaling{T<:Number}</b>) at <a href=\"https://github.com/JuliaLang/julia/tree/2ac304dfba75fad148d4070ef4f8a2e400c305bb/base/linalg/uniformscaling.jl#L139\" target=\"_blank\">linalg/uniformscaling.jl:139</a><li> \\(x::<b>Number</b>, J::<b>UniformScaling{T<:Number}</b>) at <a href=\"https://github.com/JuliaLang/julia/tree/2ac304dfba75fad148d4070ef4f8a2e400c305bb/base/linalg/uniformscaling.jl#L141\" target=\"_blank\">linalg/uniformscaling.jl:141</a><li> \\(p::<b>Base.DFT.Plan{T}</b>, x::<b>AbstractArray{T,N}</b>) at <a href=\"https://github.com/JuliaLang/julia/tree/2ac304dfba75fad148d4070ef4f8a2e400c305bb/base/dft.jl#L240\" target=\"_blank\">dft.jl:240</a><li> \\(x, y) at <a href=\"https://github.com/JuliaLang/julia/tree/2ac304dfba75fad148d4070ef4f8a2e400c305bb/base/operators.jl#L110\" target=\"_blank\">operators.jl:110</a></ul>"
      ],
      "text/plain": [
       "# 60 methods for generic function \"\\\":\n",
       "\\(x::Number, A::UpperTriangular{T,S<:AbstractArray{T,2}}) at linalg/triangular.jl:485\n",
       "\\(x::Number, A::Base.LinAlg.UnitUpperTriangular{T,S<:AbstractArray{T,2}}) at linalg/triangular.jl:488\n",
       "\\(x::Number, A::LowerTriangular{T,S<:AbstractArray{T,2}}) at linalg/triangular.jl:485\n",
       "\\(x::Number, A::Base.LinAlg.UnitLowerTriangular{T,S<:AbstractArray{T,2}}) at linalg/triangular.jl:488\n",
       "\\(A::Number, B::AbstractArray{T,N}) at abstractarraymath.jl:59\n",
       "\\(A::BitArray{N}, B::BitArray{N}) at bitarray.jl:869\n",
       "\\(a::Float16, b::Float16) at float16.jl:136\n",
       "\\(a::Array{T,1}, B::Union{DenseArray{T,1},DenseArray{T,2},SubArray{T,1,A<:DenseArray{T,N},I<:Tuple{Vararg{Union{Colon,Int64,Range{Int64}}}},LD},SubArray{T,2,A<:DenseArray{T,N},I<:Tuple{Vararg{Union{Colon,Int64,Range{Int64}}}},LD}}) at linalg/dense.jl:439\n",
       "\\(A::Union{DenseArray{T,2},SubArray{T,2,A<:DenseArray{T,N},I<:Tuple{Vararg{Union{Colon,Int64,Range{Int64}}}},LD}}, B::Union{DenseArray{T,1},DenseArray{T,2},SubArray{T,1,A<:DenseArray{T,N},I<:Tuple{Vararg{Union{Colon,Int64,Range{Int64}}}},LD},SubArray{T,2,A<:DenseArray{T,N},I<:Tuple{Vararg{Union{Colon,Int64,Range{Int64}}}},LD}}) at linalg/dense.jl:442\n",
       "\\(A::Base.LinAlg.AbstractTriangular{T,S<:AbstractArray{T,2}}, B::Base.LinAlg.AbstractTriangular{T,S<:AbstractArray{T,2}}) at linalg/triangular.jl:975\n",
       "\\{TA,TB,S}(A::Union{Base.LinAlg.UnitLowerTriangular{TA,S},Base.LinAlg.UnitUpperTriangular{TA,S}}, B::Union{DenseArray{TB,1},DenseArray{TB,2},SubArray{TB,1,A<:DenseArray{T,N},I<:Tuple{Vararg{Union{Colon,Int64,Range{Int64}}}},LD},SubArray{TB,2,A<:DenseArray{T,N},I<:Tuple{Vararg{Union{Colon,Int64,Range{Int64}}}},LD}}) at linalg/triangular.jl:998\n",
       "\\{TA,TB,S}(A::Union{LowerTriangular{TA,S},UpperTriangular{TA,S}}, B::Union{DenseArray{TB,1},DenseArray{TB,2},SubArray{TB,1,A<:DenseArray{T,N},I<:Tuple{Vararg{Union{Colon,Int64,Range{Int64}}}},LD},SubArray{TB,2,A<:DenseArray{T,N},I<:Tuple{Vararg{Union{Colon,Int64,Range{Int64}}}},LD}}) at linalg/triangular.jl:1007\n",
       "\\{T,S<:Union{DenseArray{T,2},SubArray{T,2,A<:DenseArray{T,N},I<:Tuple{Vararg{Union{Colon,Int64,Range{Int64}}}},LD}}}(A::Union{Hermitian{T,S<:Union{DenseArray{T,2},SubArray{T,2,A<:DenseArray{T,N},I<:Tuple{Vararg{Union{Colon,Int64,Range{Int64}}}},LD}}},Symmetric{T,S<:Union{DenseArray{T,2},SubArray{T,2,A<:DenseArray{T,N},I<:Tuple{Vararg{Union{Colon,Int64,Range{Int64}}}},LD}}}}, B::Union{DenseArray{T,1},DenseArray{T,2},SubArray{T,1,A<:DenseArray{T,N},I<:Tuple{Vararg{Union{Colon,Int64,Range{Int64}}}},LD},SubArray{T,2,A<:DenseArray{T,N},I<:Tuple{Vararg{Union{Colon,Int64,Range{Int64}}}},LD}}) at linalg/symmetric.jl:121\n",
       "\\(D::Diagonal{T}, B::Union{DenseArray{T,2},SubArray{T,2,A<:DenseArray{T,N},I<:Tuple{Vararg{Union{Colon,Int64,Range{Int64}}}},LD}}) at linalg/diagonal.jl:166\n",
       "\\(D::Diagonal{T}, b::Union{DenseArray{T,1},SubArray{T,1,A<:DenseArray{T,N},I<:Tuple{Vararg{Union{Colon,Int64,Range{Int64}}}},LD}}) at linalg/diagonal.jl:167\n",
       "\\(Da::Diagonal{T}, Db::Diagonal{T}) at linalg/diagonal.jl:168\n",
       "\\{T,S}(A::Bidiagonal{T}, B::Union{AbstractArray{S,1},AbstractArray{S,2}}) at linalg/bidiag.jl:266\n",
       "\\{T,Ti}(L::LowerTriangular{T,SparseMatrixCSC{T,Ti}}, B::SparseMatrixCSC{Tv,Ti<:Integer}) at sparse/linalg.jl:275\n",
       "\\{T,Ti}(U::UpperTriangular{T,SparseMatrixCSC{T,Ti}}, B::SparseMatrixCSC{Tv,Ti<:Integer}) at sparse/linalg.jl:276\n",
       "\\{T}(L::Base.SparseMatrix.CHOLMOD.FactorComponent{T,:L}, B::Base.SparseMatrix.CHOLMOD.Dense{T<:Union{Complex{Float64},Float64}}) at sparse/cholmod.jl:1277\n",
       "\\{T}(L::Base.SparseMatrix.CHOLMOD.FactorComponent{T,:U}, B::Base.SparseMatrix.CHOLMOD.Dense{T<:Union{Complex{Float64},Float64}}) at sparse/cholmod.jl:1280\n",
       "\\{T}(L::Base.SparseMatrix.CHOLMOD.FactorComponent{T,:PtL}, B::Base.SparseMatrix.CHOLMOD.Dense{T<:Union{Complex{Float64},Float64}}) at sparse/cholmod.jl:1284\n",
       "\\{T}(L::Base.SparseMatrix.CHOLMOD.FactorComponent{T,:UP}, B::Base.SparseMatrix.CHOLMOD.Dense{T<:Union{Complex{Float64},Float64}}) at sparse/cholmod.jl:1288\n",
       "\\{T}(L::Base.SparseMatrix.CHOLMOD.FactorComponent{T,:D}, B::Base.SparseMatrix.CHOLMOD.Dense{T<:Union{Complex{Float64},Float64}}) at sparse/cholmod.jl:1293\n",
       "\\{T}(L::Base.SparseMatrix.CHOLMOD.FactorComponent{T,:LD}, B::Base.SparseMatrix.CHOLMOD.Dense{T<:Union{Complex{Float64},Float64}}) at sparse/cholmod.jl:1296\n",
       "\\{T}(L::Base.SparseMatrix.CHOLMOD.FactorComponent{T,:DU}, B::Base.SparseMatrix.CHOLMOD.Dense{T<:Union{Complex{Float64},Float64}}) at sparse/cholmod.jl:1299\n",
       "\\{T}(L::Base.SparseMatrix.CHOLMOD.FactorComponent{T,:PtLD}, B::Base.SparseMatrix.CHOLMOD.Dense{T<:Union{Complex{Float64},Float64}}) at sparse/cholmod.jl:1302\n",
       "\\{T}(L::Base.SparseMatrix.CHOLMOD.FactorComponent{T,:DUP}, B::Base.SparseMatrix.CHOLMOD.Dense{T<:Union{Complex{Float64},Float64}}) at sparse/cholmod.jl:1306\n",
       "\\{T}(L::Base.SparseMatrix.CHOLMOD.FactorComponent{T,:L}, B::Base.SparseMatrix.CHOLMOD.Sparse{Tv<:Union{Complex{Float64},Float64}}) at sparse/cholmod.jl:1277\n",
       "\\{T}(L::Base.SparseMatrix.CHOLMOD.FactorComponent{T,:U}, B::Base.SparseMatrix.CHOLMOD.Sparse{Tv<:Union{Complex{Float64},Float64}}) at sparse/cholmod.jl:1280\n",
       "\\{T}(L::Base.SparseMatrix.CHOLMOD.FactorComponent{T,:PtL}, B::Base.SparseMatrix.CHOLMOD.Sparse{Tv<:Union{Complex{Float64},Float64}}) at sparse/cholmod.jl:1284\n",
       "\\{T}(L::Base.SparseMatrix.CHOLMOD.FactorComponent{T,:UP}, B::Base.SparseMatrix.CHOLMOD.Sparse{Tv<:Union{Complex{Float64},Float64}}) at sparse/cholmod.jl:1288\n",
       "\\{T}(L::Base.SparseMatrix.CHOLMOD.FactorComponent{T,:D}, B::Base.SparseMatrix.CHOLMOD.Sparse{Tv<:Union{Complex{Float64},Float64}}) at sparse/cholmod.jl:1293\n",
       "\\{T}(L::Base.SparseMatrix.CHOLMOD.FactorComponent{T,:LD}, B::Base.SparseMatrix.CHOLMOD.Sparse{Tv<:Union{Complex{Float64},Float64}}) at sparse/cholmod.jl:1296\n",
       "\\{T}(L::Base.SparseMatrix.CHOLMOD.FactorComponent{T,:DU}, B::Base.SparseMatrix.CHOLMOD.Sparse{Tv<:Union{Complex{Float64},Float64}}) at sparse/cholmod.jl:1299\n",
       "\\{T}(L::Base.SparseMatrix.CHOLMOD.FactorComponent{T,:PtLD}, B::Base.SparseMatrix.CHOLMOD.Sparse{Tv<:Union{Complex{Float64},Float64}}) at sparse/cholmod.jl:1302\n",
       "\\{T}(L::Base.SparseMatrix.CHOLMOD.FactorComponent{T,:DUP}, B::Base.SparseMatrix.CHOLMOD.Sparse{Tv<:Union{Complex{Float64},Float64}}) at sparse/cholmod.jl:1306\n",
       "\\(L::Base.SparseMatrix.CHOLMOD.FactorComponent{Tv,S}, b::Array{T,1}) at sparse/cholmod.jl:1313\n",
       "\\(L::Base.SparseMatrix.CHOLMOD.FactorComponent{Tv,S}, B::Array{T,2}) at sparse/cholmod.jl:1316\n",
       "\\(L::Base.SparseMatrix.CHOLMOD.FactorComponent{Tv,S}, B::SparseMatrixCSC{Tv,Ti<:Integer}) at sparse/cholmod.jl:1319\n",
       "\\{T}(A::AbstractArray{T,2}, B::Union{AbstractArray{T,1},AbstractArray{T,2}}) at linalg/generic.jl:323\n",
       "\\{TA,TB}(A::AbstractArray{TA,2}, B::Union{AbstractArray{TB,1},AbstractArray{TB,2}}) at linalg/generic.jl:329\n",
       "\\(a::AbstractArray{T,1}, b::AbstractArray{T,N}) at linalg/generic.jl:333\n",
       "\\{TA,Tb}(A::Union{Base.LinAlg.QRCompactWY{TA,M<:AbstractArray{T,2}},Base.LinAlg.QRPivoted{TA,S<:AbstractArray{T,2}},Base.LinAlg.QR{TA,S<:AbstractArray{T,2}}}, b::Union{DenseArray{Tb,1},SubArray{Tb,1,A<:DenseArray{T,N},I<:Tuple{Vararg{Union{Colon,Int64,Range{Int64}}}},LD}}) at linalg/qr.jl:393\n",
       "\\{TA,TB}(A::Union{Base.LinAlg.QRCompactWY{TA,M<:AbstractArray{T,2}},Base.LinAlg.QRPivoted{TA,S<:AbstractArray{T,2}},Base.LinAlg.QR{TA,S<:AbstractArray{T,2}}}, B::Union{DenseArray{TB,2},SubArray{TB,2,A<:DenseArray{T,N},I<:Tuple{Vararg{Union{Colon,Int64,Range{Int64}}}},LD}}) at linalg/qr.jl:405\n",
       "\\(L::Base.SparseMatrix.CHOLMOD.Factor{Tv}, B::Base.SparseMatrix.CHOLMOD.Dense{T<:Union{Complex{Float64},Float64}}) at sparse/cholmod.jl:1324\n",
       "\\(L::Base.SparseMatrix.CHOLMOD.Factor{Tv}, b::Array{T,1}) at sparse/cholmod.jl:1325\n",
       "\\(L::Base.SparseMatrix.CHOLMOD.Factor{Tv}, B::Array{T,2}) at sparse/cholmod.jl:1326\n",
       "\\(L::Base.SparseMatrix.CHOLMOD.Factor{Tv}, B::Base.SparseMatrix.CHOLMOD.Sparse{Tv<:Union{Complex{Float64},Float64}}) at sparse/cholmod.jl:1327\n",
       "\\(L::Base.SparseMatrix.CHOLMOD.Factor{Tv}, B::SparseMatrixCSC{Tv,Ti<:Integer}) at sparse/cholmod.jl:1329\n",
       "\\{T}(F::Base.SparseMatrix.SPQR.Factorization{T}, B::Union{DenseArray{T,1},DenseArray{T,2},SubArray{T,1,A<:DenseArray{T,N},I<:Tuple{Vararg{Union{Colon,Int64,Range{Int64}}}},LD},SubArray{T,2,A<:DenseArray{T,N},I<:Tuple{Vararg{Union{Colon,Int64,Range{Int64}}}},LD}}) at sparse/spqr.jl:142\n",
       "\\{T,S}(F::Base.SparseMatrix.SPQR.Factorization{T}, B::Union{DenseArray{S,1},DenseArray{S,2},SubArray{S,1,A<:DenseArray{T,N},I<:Tuple{Vararg{Union{Colon,Int64,Range{Int64}}}},LD},SubArray{S,2,A<:DenseArray{T,N},I<:Tuple{Vararg{Union{Colon,Int64,Range{Int64}}}},LD}}) at sparse/spqr.jl:145\n",
       "\\{TF<:Number,TB<:Number,N}(F::Factorization{TF<:Number}, B::AbstractArray{TB<:Number,N}) at linalg/factorization.jl:24\n",
       "\\(J1::UniformScaling{T<:Number}, J2::UniformScaling{T<:Number}) at linalg/uniformscaling.jl:136\n",
       "\\{T<:Number}(A::Union{Base.LinAlg.AbstractTriangular{T<:Number,S<:AbstractArray{T,2}},Bidiagonal{T<:Number}}, J::UniformScaling{T<:Number}) at linalg/uniformscaling.jl:137\n",
       "\\(J::UniformScaling{T<:Number}, A::Union{AbstractArray{T,1},AbstractArray{T,2}}) at linalg/uniformscaling.jl:138\n",
       "\\(A::AbstractArray{T,2}, J::UniformScaling{T<:Number}) at linalg/uniformscaling.jl:139\n",
       "\\(x::Number, J::UniformScaling{T<:Number}) at linalg/uniformscaling.jl:141\n",
       "\\(p::Base.DFT.Plan{T}, x::AbstractArray{T,N}) at dft.jl:240\n",
       "\\(x, y) at operators.jl:110"
      ]
     },
     "execution_count": 3,
     "metadata": {},
     "output_type": "execute_result"
    }
   ],
   "source": [
    "methods(\\)"
   ]
  },
  {
   "cell_type": "code",
   "execution_count": 4,
   "metadata": {},
   "outputs": [
    {
     "data": {
      "text/plain": [
       "84.0"
      ]
     },
     "execution_count": 4,
     "metadata": {},
     "output_type": "execute_result"
    }
   ],
   "source": [
    "60 \\ 5040"
   ]
  },
  {
   "cell_type": "code",
   "execution_count": 6,
   "metadata": {},
   "outputs": [
    {
     "data": {
      "text/plain": [
       "84.0"
      ]
     },
     "execution_count": 6,
     "metadata": {},
     "output_type": "execute_result"
    }
   ],
   "source": [
    "5040 / 60"
   ]
  },
  {
   "cell_type": "code",
   "execution_count": 7,
   "metadata": {},
   "outputs": [
    {
     "data": {
      "text/plain": [
       "addone (generic function with 1 method)"
      ]
     },
     "execution_count": 7,
     "metadata": {},
     "output_type": "execute_result"
    }
   ],
   "source": [
    "addone(x::Int64) = x+1"
   ]
  },
  {
   "cell_type": "code",
   "execution_count": 12,
   "metadata": {},
   "outputs": [
    {
     "ename": "LoadError",
     "evalue": "MethodError: `addone` has no method matching addone(::Float64)",
     "output_type": "error",
     "traceback": [
      "MethodError: `addone` has no method matching addone(::Float64)",
      ""
     ]
    }
   ],
   "source": [
    "addone(10*ceil(1.2))"
   ]
  },
  {
   "cell_type": "code",
   "execution_count": 13,
   "metadata": {},
   "outputs": [
    {
     "data": {
      "text/plain": [
       "heybuddy (generic function with 1 method)"
      ]
     },
     "execution_count": 13,
     "metadata": {},
     "output_type": "execute_result"
    }
   ],
   "source": [
    "function heybuddy(foo)\n",
    "    println(\"foo is $foo\")\n",
    "end"
   ]
  },
  {
   "cell_type": "code",
   "execution_count": 15,
   "metadata": {},
   "outputs": [
    {
     "name": "stdout",
     "output_type": "stream",
     "text": [
      "foo is 33\n"
     ]
    }
   ],
   "source": [
    "heybuddy(33)"
   ]
  },
  {
   "cell_type": "code",
   "execution_count": 16,
   "metadata": {},
   "outputs": [
    {
     "name": "stdout",
     "output_type": "stream",
     "text": [
      "12\n"
     ]
    }
   ],
   "source": [
    "println(\"$(2*6)\")"
   ]
  },
  {
   "cell_type": "code",
   "execution_count": 17,
   "metadata": {},
   "outputs": [
    {
     "data": {
      "text/plain": [
       "12"
      ]
     },
     "execution_count": 17,
     "metadata": {},
     "output_type": "execute_result"
    }
   ],
   "source": [
    "2^3^2-500"
   ]
  },
  {
   "cell_type": "code",
   "execution_count": 18,
   "metadata": {},
   "outputs": [
    {
     "data": {
      "text/plain": [
       "12"
      ]
     },
     "execution_count": 18,
     "metadata": {},
     "output_type": "execute_result"
    }
   ],
   "source": [
    "2^2^1^5+2^3"
   ]
  },
  {
   "cell_type": "code",
   "execution_count": 19,
   "metadata": {},
   "outputs": [
    {
     "data": {
      "text/plain": [
       "-436"
      ]
     },
     "execution_count": 19,
     "metadata": {},
     "output_type": "execute_result"
    }
   ],
   "source": [
    "(2^3)^2-500"
   ]
  },
  {
   "cell_type": "code",
   "execution_count": 21,
   "metadata": {},
   "outputs": [
    {
     "data": {
      "text/plain": [
       "0"
      ]
     },
     "execution_count": 21,
     "metadata": {},
     "output_type": "execute_result"
    }
   ],
   "source": [
    "(5 - 7) * 2 + 4"
   ]
  },
  {
   "cell_type": "code",
   "execution_count": 22,
   "metadata": {},
   "outputs": [
    {
     "data": {
      "text/plain": [
       "false"
      ]
     },
     "execution_count": 22,
     "metadata": {},
     "output_type": "execute_result"
    }
   ],
   "source": [
    "1 + 3 < 5 && 2^2 === 4.0"
   ]
  },
  {
   "cell_type": "code",
   "execution_count": 23,
   "metadata": {},
   "outputs": [
    {
     "data": {
      "text/plain": [
       "true"
      ]
     },
     "execution_count": 23,
     "metadata": {},
     "output_type": "execute_result"
    }
   ],
   "source": [
    "true && false && false || true"
   ]
  },
  {
   "cell_type": "code",
   "execution_count": 25,
   "metadata": {},
   "outputs": [
    {
     "data": {
      "text/plain": [
       "true"
      ]
     },
     "execution_count": 25,
     "metadata": {},
     "output_type": "execute_result"
    }
   ],
   "source": [
    "((true && false) && false) || true"
   ]
  },
  {
   "cell_type": "code",
   "execution_count": 26,
   "metadata": {},
   "outputs": [
    {
     "data": {
      "text/plain": [
       "(19,3)"
      ]
     },
     "execution_count": 26,
     "metadata": {},
     "output_type": "execute_result"
    }
   ],
   "source": [
    "a, b = 2, 3           \n",
    "function f(x)  \n",
    "  b = 5 \n",
    "  a*x + b\n",
    "end\n",
    "f(7), b"
   ]
  },
  {
   "cell_type": "code",
   "execution_count": 27,
   "metadata": {},
   "outputs": [
    {
     "data": {
      "text/plain": [
       "f (generic function with 1 method)"
      ]
     },
     "execution_count": 27,
     "metadata": {},
     "output_type": "execute_result"
    }
   ],
   "source": [
    "function f(x)\n",
    "  return 2x\n",
    "  3x\n",
    "end"
   ]
  },
  {
   "cell_type": "code",
   "execution_count": 28,
   "metadata": {},
   "outputs": [
    {
     "data": {
      "text/plain": [
       "10"
      ]
     },
     "execution_count": 28,
     "metadata": {},
     "output_type": "execute_result"
    }
   ],
   "source": [
    "f(5)"
   ]
  },
  {
   "cell_type": "code",
   "execution_count": null,
   "metadata": {},
   "outputs": [],
   "source": []
  }
 ],
 "metadata": {
  "kernelspec": {
   "display_name": "Julia 0.4.5",
   "language": "julia",
   "name": "julia-0.4"
  },
  "language_info": {
   "file_extension": ".jl",
   "mimetype": "application/julia",
   "name": "julia",
   "version": "0.4.5"
  }
 },
 "nbformat": 4,
 "nbformat_minor": 2
}
