{
 "cells": [
  {
   "cell_type": "code",
   "execution_count": 1,
   "metadata": {},
   "outputs": [
    {
     "data": {
      "text/plain": [
       "2"
      ]
     },
     "execution_count": 1,
     "metadata": {},
     "output_type": "execute_result"
    }
   ],
   "source": [
    "1+1"
   ]
  },
  {
   "cell_type": "code",
   "execution_count": 2,
   "metadata": {},
   "outputs": [
    {
     "ename": "LoadError",
     "evalue": "\u001b[91mDimensionMismatch(\"matrix A has dimensions (3,1), matrix B has dimensions (3,2)\")\u001b[39m",
     "output_type": "error",
     "traceback": [
      "\u001b[91mDimensionMismatch(\"matrix A has dimensions (3,1), matrix B has dimensions (3,2)\")\u001b[39m",
      "",
      "Stacktrace:",
      " [1] \u001b[1m_generic_matmatmul!\u001b[22m\u001b[22m\u001b[1m(\u001b[22m\u001b[22m::Array{Int64,2}, ::Char, ::Char, ::Array{Int64,2}, ::Array{Int64,2}\u001b[1m)\u001b[22m\u001b[22m at \u001b[1m.\\linalg\\matmul.jl:492\u001b[22m\u001b[22m",
      " [2] \u001b[1mgeneric_matmatmul!\u001b[22m\u001b[22m\u001b[1m(\u001b[22m\u001b[22m::Array{Int64,2}, ::Char, ::Char, ::Array{Int64,2}, ::Array{Int64,2}\u001b[1m)\u001b[22m\u001b[22m at \u001b[1m.\\linalg\\matmul.jl:483\u001b[22m\u001b[22m",
      " [3] \u001b[1m*\u001b[22m\u001b[22m\u001b[1m(\u001b[22m\u001b[22m::Array{Int64,1}, ::Array{Int64,2}\u001b[1m)\u001b[22m\u001b[22m at \u001b[1m.\\linalg\\matmul.jl:87\u001b[22m\u001b[22m"
     ]
    }
   ],
   "source": [
    "a = [[1, 2, 3] [4, 5, 6] ]\n",
    "b = [1,2,3]\n",
    "b*a"
   ]
  },
  {
   "cell_type": "code",
   "execution_count": 3,
   "metadata": {},
   "outputs": [
    {
     "data": {
      "text/plain": [
       "3-element Array{Int64,1}:\n",
       " 2\n",
       " 2\n",
       " 2"
      ]
     },
     "execution_count": 3,
     "metadata": {},
     "output_type": "execute_result"
    }
   ],
   "source": [
    "[2,2,2]"
   ]
  },
  {
   "cell_type": "code",
   "execution_count": 5,
   "metadata": {},
   "outputs": [
    {
     "data": {
      "text/plain": [
       "Tuple{String,Int64,String,Int64,String,Int64}"
      ]
     },
     "execution_count": 5,
     "metadata": {},
     "output_type": "execute_result"
    }
   ],
   "source": [
    "typeof((\"A\", 3, \"B\", 4, \"C\", 2))"
   ]
  },
  {
   "cell_type": "code",
   "execution_count": 4,
   "metadata": {},
   "outputs": [
    {
     "data": {
      "text/plain": [
       "6-element Array{Int64,1}:\n",
       " 1\n",
       " 2\n",
       " 1\n",
       " 2\n",
       " 1\n",
       " 2"
      ]
     },
     "execution_count": 4,
     "metadata": {},
     "output_type": "execute_result"
    }
   ],
   "source": [
    "repmat([1, 2], 3)\n",
    "\n"
   ]
  },
  {
   "cell_type": "code",
   "execution_count": 12,
   "metadata": {},
   "outputs": [
    {
     "data": {
      "text/plain": [
       "simple_addition (generic function with 1 method)"
      ]
     },
     "execution_count": 12,
     "metadata": {},
     "output_type": "execute_result"
    }
   ],
   "source": [
    "function simple_addition{T <: Int}(x::T, y::T)\n",
    "  return x + y\n",
    "end"
   ]
  },
  {
   "cell_type": "code",
   "execution_count": 7,
   "metadata": {},
   "outputs": [
    {
     "ename": "LoadError",
     "evalue": "\u001b[91mMethodError: no method matching simple_addition(::Int64)\u001b[0m\nClosest candidates are:\n  simple_addition(::T<:Int64, \u001b[91m::T<:Int64\u001b[39m) where T<:Int64 at In[6]:2\u001b[39m",
     "output_type": "error",
     "traceback": [
      "\u001b[91mMethodError: no method matching simple_addition(::Int64)\u001b[0m\nClosest candidates are:\n  simple_addition(::T<:Int64, \u001b[91m::T<:Int64\u001b[39m) where T<:Int64 at In[6]:2\u001b[39m",
      ""
     ]
    }
   ],
   "source": [
    "simple_addition(5)"
   ]
  },
  {
   "cell_type": "code",
   "execution_count": 8,
   "metadata": {},
   "outputs": [
    {
     "ename": "LoadError",
     "evalue": "\u001b[91mfunction simple_addition does not accept keyword arguments\u001b[39m",
     "output_type": "error",
     "traceback": [
      "\u001b[91mfunction simple_addition does not accept keyword arguments\u001b[39m",
      "",
      "Stacktrace:",
      " [1] \u001b[1mkwfunc\u001b[22m\u001b[22m\u001b[1m(\u001b[22m\u001b[22m::Any\u001b[1m)\u001b[22m\u001b[22m at \u001b[1m.\\boot.jl:237\u001b[22m\u001b[22m"
     ]
    }
   ],
   "source": [
    "simple_addition(x = 5, y = 5)"
   ]
  },
  {
   "cell_type": "code",
   "execution_count": 9,
   "metadata": {},
   "outputs": [
    {
     "data": {
      "text/plain": [
       "10"
      ]
     },
     "execution_count": 9,
     "metadata": {},
     "output_type": "execute_result"
    }
   ],
   "source": [
    "simple_addition(5, 5)"
   ]
  },
  {
   "cell_type": "code",
   "execution_count": 10,
   "metadata": {},
   "outputs": [
    {
     "ename": "LoadError",
     "evalue": "\u001b[91mMethodError: no method matching simple_addition(::Float64, ::Float64)\u001b[39m",
     "output_type": "error",
     "traceback": [
      "\u001b[91mMethodError: no method matching simple_addition(::Float64, ::Float64)\u001b[39m",
      ""
     ]
    }
   ],
   "source": [
    "simple_addition(5., 5.)"
   ]
  },
  {
   "cell_type": "code",
   "execution_count": 13,
   "metadata": {},
   "outputs": [
    {
     "data": {
      "text/plain": [
       "5-element Array{Int64,1}:\n",
       "   3\n",
       "  25\n",
       "  63\n",
       " 117\n",
       " 187"
      ]
     },
     "execution_count": 13,
     "metadata": {},
     "output_type": "execute_result"
    }
   ],
   "source": [
    "map(x -> 2x^2 + 3x - 2, 1:2:9)"
   ]
  },
  {
   "cell_type": "code",
   "execution_count": 14,
   "metadata": {},
   "outputs": [
    {
     "data": {
      "text/plain": [
       "my_function (generic function with 2 methods)"
      ]
     },
     "execution_count": 14,
     "metadata": {},
     "output_type": "execute_result"
    }
   ],
   "source": [
    "function my_function{T}(a::T, b::T, c::T = 2 + 8im)\n",
    "  return a - (b * c)\n",
    "end"
   ]
  },
  {
   "cell_type": "code",
   "execution_count": 19,
   "metadata": {},
   "outputs": [
    {
     "ename": "LoadError",
     "evalue": "\u001b[91mMethodError: no method matching my_function(::Int64, ::Float64, ::Int64)\u001b[0m\nClosest candidates are:\n  my_function(::T, \u001b[91m::T\u001b[39m, ::T) where T at In[14]:2\n  my_function(::T, \u001b[91m::T\u001b[39m) where T at In[14]:2\u001b[39m",
     "output_type": "error",
     "traceback": [
      "\u001b[91mMethodError: no method matching my_function(::Int64, ::Float64, ::Int64)\u001b[0m\nClosest candidates are:\n  my_function(::T, \u001b[91m::T\u001b[39m, ::T) where T at In[14]:2\n  my_function(::T, \u001b[91m::T\u001b[39m) where T at In[14]:2\u001b[39m",
      ""
     ]
    }
   ],
   "source": [
    "my_function(4, 3.5, 8) "
   ]
  },
  {
   "cell_type": "code",
   "execution_count": 20,
   "metadata": {
    "scrolled": true
   },
   "outputs": [
    {
     "name": "stdout",
     "output_type": "stream",
     "text": [
      "search: \u001b[1mm\u001b[22m\u001b[1ma\u001b[22m\u001b[1mp\u001b[22m\u001b[1mr\u001b[22m\u001b[1me\u001b[22m\u001b[1md\u001b[22m\u001b[1mu\u001b[22m\u001b[1mc\u001b[22m\u001b[1me\u001b[22m \u001b[1mm\u001b[22m\u001b[1ma\u001b[22m\u001b[1mp\u001b[22m\u001b[1mr\u001b[22m\u001b[1me\u001b[22m\u001b[1md\u001b[22m\u001b[1mu\u001b[22m\u001b[1mc\u001b[22m\u001b[1me\u001b[22mdim\n",
      "\n"
     ]
    },
    {
     "data": {
      "text/markdown": [
       "```\n",
       "mapreduce(f, op, itr)\n",
       "```\n",
       "\n",
       "Like `mapreduce(f, op, v0, itr)`. In general, this cannot be used with empty collections (see `reduce(op, itr)`).\n",
       "\n",
       "```\n",
       "mapreduce(f, op, v0, itr)\n",
       "```\n",
       "\n",
       "Apply function `f` to each element in `itr`, and then reduce the result using the binary function `op`. `v0` must be a neutral element for `op` that will be returned for empty collections. It is unspecified whether `v0` is used for non-empty collections.\n",
       "\n",
       "[`mapreduce`](@ref) is functionally equivalent to calling `reduce(op, v0, map(f, itr))`, but will in general execute faster since no intermediate collection needs to be created. See documentation for [`reduce`](@ref) and [`map`](@ref).\n",
       "\n",
       "```jldoctest\n",
       "julia> mapreduce(x->x^2, +, [1:3;]) # == 1 + 4 + 9\n",
       "14\n",
       "```\n",
       "\n",
       "The associativity of the reduction is implementation-dependent. Additionally, some implementations may reuse the return value of `f` for elements that appear multiple times in `itr`. Use [`mapfoldl`](@ref) or [`mapfoldr`](@ref) instead for guaranteed left or right associativity and invocation of `f` for every value.\n"
      ],
      "text/plain": [
       "```\n",
       "mapreduce(f, op, itr)\n",
       "```\n",
       "\n",
       "Like `mapreduce(f, op, v0, itr)`. In general, this cannot be used with empty collections (see `reduce(op, itr)`).\n",
       "\n",
       "```\n",
       "mapreduce(f, op, v0, itr)\n",
       "```\n",
       "\n",
       "Apply function `f` to each element in `itr`, and then reduce the result using the binary function `op`. `v0` must be a neutral element for `op` that will be returned for empty collections. It is unspecified whether `v0` is used for non-empty collections.\n",
       "\n",
       "[`mapreduce`](@ref) is functionally equivalent to calling `reduce(op, v0, map(f, itr))`, but will in general execute faster since no intermediate collection needs to be created. See documentation for [`reduce`](@ref) and [`map`](@ref).\n",
       "\n",
       "```jldoctest\n",
       "julia> mapreduce(x->x^2, +, [1:3;]) # == 1 + 4 + 9\n",
       "14\n",
       "```\n",
       "\n",
       "The associativity of the reduction is implementation-dependent. Additionally, some implementations may reuse the return value of `f` for elements that appear multiple times in `itr`. Use [`mapfoldl`](@ref) or [`mapfoldr`](@ref) instead for guaranteed left or right associativity and invocation of `f` for every value.\n"
      ]
     },
     "execution_count": 20,
     "metadata": {},
     "output_type": "execute_result"
    }
   ],
   "source": [
    "?mapreduce"
   ]
  },
  {
   "cell_type": "code",
   "execution_count": 29,
   "metadata": {},
   "outputs": [
    {
     "name": "stdout",
     "output_type": "stream",
     "text": [
      "search: \u001b[1mS\u001b[22m\u001b[1my\u001b[22m\u001b[1mm\u001b[22m\u001b[1mb\u001b[22m\u001b[1mo\u001b[22m\u001b[1ml\u001b[22m\n",
      "\n"
     ]
    },
    {
     "data": {
      "text/markdown": [
       "```\n",
       "Symbol(x...) -> Symbol\n",
       "```\n",
       "\n",
       "Create a `Symbol` by concatenating the string representations of the arguments together.\n"
      ],
      "text/plain": [
       "```\n",
       "Symbol(x...) -> Symbol\n",
       "```\n",
       "\n",
       "Create a `Symbol` by concatenating the string representations of the arguments together.\n"
      ]
     },
     "execution_count": 29,
     "metadata": {},
     "output_type": "execute_result"
    }
   ],
   "source": [
    "?Symbol"
   ]
  },
  {
   "cell_type": "code",
   "execution_count": 36,
   "metadata": {},
   "outputs": [
    {
     "data": {
      "text/plain": [
       "Symbol(\"\\\"Foo\\\"\")"
      ]
     },
     "execution_count": 36,
     "metadata": {},
     "output_type": "execute_result"
    }
   ],
   "source": [
    "Symbol(\"\\\"Foo\\\"\")"
   ]
  },
  {
   "cell_type": "code",
   "execution_count": 37,
   "metadata": {},
   "outputs": [
    {
     "data": {
      "text/plain": [
       "\"Foo\""
      ]
     },
     "execution_count": 37,
     "metadata": {},
     "output_type": "execute_result"
    }
   ],
   "source": [
    ":\"Foo\""
   ]
  },
  {
   "cell_type": "code",
   "execution_count": 41,
   "metadata": {},
   "outputs": [
    {
     "data": {
      "text/plain": [
       "Void"
      ]
     },
     "execution_count": 41,
     "metadata": {},
     "output_type": "execute_result"
    }
   ],
   "source": [
    "typeof(nothing)"
   ]
  },
  {
   "cell_type": "code",
   "execution_count": 42,
   "metadata": {},
   "outputs": [
    {
     "name": "stderr",
     "output_type": "stream",
     "text": [
      "\u001b[1m\u001b[36mINFO: \u001b[39m\u001b[22m\u001b[36mPrecompiling module DataFrames.\n",
      "\u001b[39m"
     ]
    }
   ],
   "source": [
    "using DataFrames"
   ]
  },
  {
   "cell_type": "code",
   "execution_count": 44,
   "metadata": {},
   "outputs": [
    {
     "name": "stdout",
     "output_type": "stream",
     "text": [
      "search: \u001b[1md\u001b[22m\u001b[1me\u001b[22m\u001b[1ml\u001b[22m\u001b[1me\u001b[22m\u001b[1mt\u001b[22m\u001b[1me\u001b[22m\u001b[1mr\u001b[22m\u001b[1mo\u001b[22m\u001b[1mw\u001b[22m\u001b[1ms\u001b[22m\u001b[1m!\u001b[22m\n",
      "\n"
     ]
    },
    {
     "data": {
      "text/markdown": [
       "No documentation found.\n",
       "\n",
       "`DataFrames.deleterows!` is a `Function`.\n",
       "\n",
       "```\n",
       "# 2 methods for generic function \"deleterows!\":\n",
       "deleterows!(df::DataFrames.DataFrame, ind::Union{Integer, UnitRange{Int64}}) in DataFrames at C:\\Users\\strac_000\\.julia\\v0.6\\DataFrames\\src\\dataframe/dataframe.jl:800\n",
       "deleterows!(df::DataFrames.DataFrame, ind::AbstractArray{Int64,1}) in DataFrames at C:\\Users\\strac_000\\.julia\\v0.6\\DataFrames\\src\\dataframe/dataframe.jl:807\n",
       "```\n"
      ],
      "text/plain": [
       "No documentation found.\n",
       "\n",
       "`DataFrames.deleterows!` is a `Function`.\n",
       "\n",
       "```\n",
       "# 2 methods for generic function \"deleterows!\":\n",
       "deleterows!(df::DataFrames.DataFrame, ind::Union{Integer, UnitRange{Int64}}) in DataFrames at C:\\Users\\strac_000\\.julia\\v0.6\\DataFrames\\src\\dataframe/dataframe.jl:800\n",
       "deleterows!(df::DataFrames.DataFrame, ind::AbstractArray{Int64,1}) in DataFrames at C:\\Users\\strac_000\\.julia\\v0.6\\DataFrames\\src\\dataframe/dataframe.jl:807\n",
       "```\n"
      ]
     },
     "execution_count": 44,
     "metadata": {},
     "output_type": "execute_result"
    }
   ],
   "source": [
    "?deleterows!"
   ]
  }
 ],
 "metadata": {
  "kernelspec": {
   "display_name": "Julia 0.6.2",
   "language": "julia",
   "name": "julia-0.6"
  },
  "language_info": {
   "file_extension": ".jl",
   "mimetype": "application/julia",
   "name": "julia",
   "version": "0.6.2"
  }
 },
 "nbformat": 4,
 "nbformat_minor": 2
}
