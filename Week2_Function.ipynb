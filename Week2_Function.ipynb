{
 "cells": [
  {
   "cell_type": "markdown",
   "metadata": {},
   "source": [
    "## The Sinc Function"
   ]
  },
  {
   "cell_type": "code",
   "execution_count": 1,
   "metadata": {},
   "outputs": [
    {
     "data": {
      "text/plain": [
       "f (generic function with 1 method)"
      ]
     },
     "execution_count": 1,
     "metadata": {},
     "output_type": "execute_result"
    }
   ],
   "source": [
    "f(x) = x!=0 ? sin(π*x)/(π*x) : 1"
   ]
  },
  {
   "cell_type": "markdown",
   "metadata": {},
   "source": [
    "The sinc is the fourier twin of the rectange. It is defined as\n",
    "\n",
    "$$ sinc(x) = \\sin(\\pi x)/ (\\pi x) $$\n",
    "\n",
    "Except when $x=0$, then $sinc(0) = 1$."
   ]
  },
  {
   "cell_type": "code",
   "execution_count": 2,
   "metadata": {},
   "outputs": [
    {
     "name": "stdout",
     "output_type": "stream",
     "text": [
      "for x=0.0, sinc(x)=1\n",
      "for x=0.6981317007977318, sinc(x)=0.3704341512443177\n",
      "for x=1.3962634015954636, sinc(x)=-0.21597299417522203\n",
      "for x=2.0943951023931953, sinc(x)=0.04441264057156851\n",
      "for x=2.792526803190927, sinc(x)=0.06914586536703572\n",
      "for x=3.490658503988659, sinc(x)=-0.09114979949990644\n",
      "for x=4.1887902047863905, sinc(x)=0.042474031732038904\n",
      "for x=4.886921905584122, sinc(x)=0.02265529598465284\n",
      "for x=5.585053606381854, sinc(x)=-0.054970647390542894\n",
      "for x=6.283185307179586, sinc(x)=0.03935584386392389\n"
     ]
    }
   ],
   "source": [
    "for x = linspace(0,2*π,10)\n",
    "    println(\"for x=$(x), sinc(x)=$(f(x))\")\n",
    "end"
   ]
  },
  {
   "cell_type": "code",
   "execution_count": 3,
   "metadata": {
    "scrolled": false
   },
   "outputs": [
    {
     "data": {
      "image/svg+xml": [
       "<?xml version=\"1.0\" encoding=\"utf-8\"?>\n",
       "<svg xmlns=\"http://www.w3.org/2000/svg\" xmlns:xlink=\"http://www.w3.org/1999/xlink\" width=\"600\" height=\"400\" viewBox=\"0 0 600 400\">\n",
       "<defs>\n",
       "  <clipPath id=\"clip2400\">\n",
       "    <rect x=\"0\" y=\"0\" width=\"600\" height=\"400\"/>\n",
       "  </clipPath>\n",
       "</defs>\n",
       "<polygon clip-path=\"url(#clip2400)\" points=\"\n",
       "0,400 600,400 600,0 0,0 \n",
       "  \" fill=\"#ffffff\" fill-opacity=\"1\"/>\n",
       "<defs>\n",
       "  <clipPath id=\"clip2401\">\n",
       "    <rect x=\"120\" y=\"0\" width=\"421\" height=\"400\"/>\n",
       "  </clipPath>\n",
       "</defs>\n",
       "<polygon clip-path=\"url(#clip2400)\" points=\"\n",
       "39.1651,375.869 580.315,375.869 580.315,11.811 39.1651,11.811 \n",
       "  \" fill=\"#ffffff\" fill-opacity=\"1\"/>\n",
       "<defs>\n",
       "  <clipPath id=\"clip2402\">\n",
       "    <rect x=\"39\" y=\"11\" width=\"542\" height=\"365\"/>\n",
       "  </clipPath>\n",
       "</defs>\n",
       "<polyline clip-path=\"url(#clip2402)\" style=\"stroke:#000000; stroke-width:0.5; stroke-opacity:0.1; fill:none\" points=\"\n",
       "  94.4233,375.869 94.4233,11.811 \n",
       "  \"/>\n",
       "<polyline clip-path=\"url(#clip2402)\" style=\"stroke:#000000; stroke-width:0.5; stroke-opacity:0.1; fill:none\" points=\"\n",
       "  202.082,375.869 202.082,11.811 \n",
       "  \"/>\n",
       "<polyline clip-path=\"url(#clip2402)\" style=\"stroke:#000000; stroke-width:0.5; stroke-opacity:0.1; fill:none\" points=\"\n",
       "  309.74,375.869 309.74,11.811 \n",
       "  \"/>\n",
       "<polyline clip-path=\"url(#clip2402)\" style=\"stroke:#000000; stroke-width:0.5; stroke-opacity:0.1; fill:none\" points=\"\n",
       "  417.398,375.869 417.398,11.811 \n",
       "  \"/>\n",
       "<polyline clip-path=\"url(#clip2402)\" style=\"stroke:#000000; stroke-width:0.5; stroke-opacity:0.1; fill:none\" points=\"\n",
       "  525.057,375.869 525.057,11.811 \n",
       "  \"/>\n",
       "<polyline clip-path=\"url(#clip2402)\" style=\"stroke:#000000; stroke-width:0.5; stroke-opacity:0.1; fill:none\" points=\"\n",
       "  39.1651,309.778 580.315,309.778 \n",
       "  \"/>\n",
       "<polyline clip-path=\"url(#clip2402)\" style=\"stroke:#000000; stroke-width:0.5; stroke-opacity:0.1; fill:none\" points=\"\n",
       "  39.1651,233.275 580.315,233.275 \n",
       "  \"/>\n",
       "<polyline clip-path=\"url(#clip2402)\" style=\"stroke:#000000; stroke-width:0.5; stroke-opacity:0.1; fill:none\" points=\"\n",
       "  39.1651,156.772 580.315,156.772 \n",
       "  \"/>\n",
       "<polyline clip-path=\"url(#clip2402)\" style=\"stroke:#000000; stroke-width:0.5; stroke-opacity:0.1; fill:none\" points=\"\n",
       "  39.1651,80.2682 580.315,80.2682 \n",
       "  \"/>\n",
       "<polyline clip-path=\"url(#clip2400)\" style=\"stroke:#000000; stroke-width:1; stroke-opacity:1; fill:none\" points=\"\n",
       "  39.1651,375.869 580.315,375.869 \n",
       "  \"/>\n",
       "<polyline clip-path=\"url(#clip2400)\" style=\"stroke:#000000; stroke-width:1; stroke-opacity:1; fill:none\" points=\"\n",
       "  39.1651,375.869 39.1651,11.811 \n",
       "  \"/>\n",
       "<polyline clip-path=\"url(#clip2400)\" style=\"stroke:#000000; stroke-width:1; stroke-opacity:1; fill:none\" points=\"\n",
       "  94.4233,375.869 94.4233,370.408 \n",
       "  \"/>\n",
       "<polyline clip-path=\"url(#clip2400)\" style=\"stroke:#000000; stroke-width:1; stroke-opacity:1; fill:none\" points=\"\n",
       "  202.082,375.869 202.082,370.408 \n",
       "  \"/>\n",
       "<polyline clip-path=\"url(#clip2400)\" style=\"stroke:#000000; stroke-width:1; stroke-opacity:1; fill:none\" points=\"\n",
       "  309.74,375.869 309.74,370.408 \n",
       "  \"/>\n",
       "<polyline clip-path=\"url(#clip2400)\" style=\"stroke:#000000; stroke-width:1; stroke-opacity:1; fill:none\" points=\"\n",
       "  417.398,375.869 417.398,370.408 \n",
       "  \"/>\n",
       "<polyline clip-path=\"url(#clip2400)\" style=\"stroke:#000000; stroke-width:1; stroke-opacity:1; fill:none\" points=\"\n",
       "  525.057,375.869 525.057,370.408 \n",
       "  \"/>\n",
       "<polyline clip-path=\"url(#clip2400)\" style=\"stroke:#000000; stroke-width:1; stroke-opacity:1; fill:none\" points=\"\n",
       "  39.1651,309.778 47.2823,309.778 \n",
       "  \"/>\n",
       "<polyline clip-path=\"url(#clip2400)\" style=\"stroke:#000000; stroke-width:1; stroke-opacity:1; fill:none\" points=\"\n",
       "  39.1651,233.275 47.2823,233.275 \n",
       "  \"/>\n",
       "<polyline clip-path=\"url(#clip2400)\" style=\"stroke:#000000; stroke-width:1; stroke-opacity:1; fill:none\" points=\"\n",
       "  39.1651,156.772 47.2823,156.772 \n",
       "  \"/>\n",
       "<polyline clip-path=\"url(#clip2400)\" style=\"stroke:#000000; stroke-width:1; stroke-opacity:1; fill:none\" points=\"\n",
       "  39.1651,80.2682 47.2823,80.2682 \n",
       "  \"/>\n",
       "<g clip-path=\"url(#clip2400)\">\n",
       "<text style=\"fill:#000000; fill-opacity:1; font-family:Arial,Helvetica Neue,Helvetica,sans-serif; font-size:12; text-anchor:middle;\" transform=\"rotate(0, 94.4233, 389.669)\" x=\"94.4233\" y=\"389.669\">-10</text>\n",
       "</g>\n",
       "<g clip-path=\"url(#clip2400)\">\n",
       "<text style=\"fill:#000000; fill-opacity:1; font-family:Arial,Helvetica Neue,Helvetica,sans-serif; font-size:12; text-anchor:middle;\" transform=\"rotate(0, 202.082, 389.669)\" x=\"202.082\" y=\"389.669\">-5</text>\n",
       "</g>\n",
       "<g clip-path=\"url(#clip2400)\">\n",
       "<text style=\"fill:#000000; fill-opacity:1; font-family:Arial,Helvetica Neue,Helvetica,sans-serif; font-size:12; text-anchor:middle;\" transform=\"rotate(0, 309.74, 389.669)\" x=\"309.74\" y=\"389.669\">0</text>\n",
       "</g>\n",
       "<g clip-path=\"url(#clip2400)\">\n",
       "<text style=\"fill:#000000; fill-opacity:1; font-family:Arial,Helvetica Neue,Helvetica,sans-serif; font-size:12; text-anchor:middle;\" transform=\"rotate(0, 417.398, 389.669)\" x=\"417.398\" y=\"389.669\">5</text>\n",
       "</g>\n",
       "<g clip-path=\"url(#clip2400)\">\n",
       "<text style=\"fill:#000000; fill-opacity:1; font-family:Arial,Helvetica Neue,Helvetica,sans-serif; font-size:12; text-anchor:middle;\" transform=\"rotate(0, 525.057, 389.669)\" x=\"525.057\" y=\"389.669\">10</text>\n",
       "</g>\n",
       "<g clip-path=\"url(#clip2400)\">\n",
       "<text style=\"fill:#000000; fill-opacity:1; font-family:Arial,Helvetica Neue,Helvetica,sans-serif; font-size:12; text-anchor:end;\" transform=\"rotate(0, 33.1651, 314.278)\" x=\"33.1651\" y=\"314.278\">0.00</text>\n",
       "</g>\n",
       "<g clip-path=\"url(#clip2400)\">\n",
       "<text style=\"fill:#000000; fill-opacity:1; font-family:Arial,Helvetica Neue,Helvetica,sans-serif; font-size:12; text-anchor:end;\" transform=\"rotate(0, 33.1651, 237.775)\" x=\"33.1651\" y=\"237.775\">0.25</text>\n",
       "</g>\n",
       "<g clip-path=\"url(#clip2400)\">\n",
       "<text style=\"fill:#000000; fill-opacity:1; font-family:Arial,Helvetica Neue,Helvetica,sans-serif; font-size:12; text-anchor:end;\" transform=\"rotate(0, 33.1651, 161.272)\" x=\"33.1651\" y=\"161.272\">0.50</text>\n",
       "</g>\n",
       "<g clip-path=\"url(#clip2400)\">\n",
       "<text style=\"fill:#000000; fill-opacity:1; font-family:Arial,Helvetica Neue,Helvetica,sans-serif; font-size:12; text-anchor:end;\" transform=\"rotate(0, 33.1651, 84.7682)\" x=\"33.1651\" y=\"84.7682\">0.75</text>\n",
       "</g>\n",
       "<polyline clip-path=\"url(#clip2402)\" style=\"stroke:#009af9; stroke-width:1; stroke-opacity:1; fill:none\" points=\"\n",
       "  39.1651,302.195 44.6312,303.2 50.0974,308.298 55.5636,314.528 61.0297,318.103 66.4959,316.706 71.962,310.971 77.4282,304.229 82.8944,300.59 88.3605,302.448 \n",
       "  93.8267,308.934 99.2928,316.278 104.759,319.99 110.225,317.578 115.691,310.194 121.157,302.124 126.624,298.326 132.09,301.413 137.556,309.901 143.022,318.869 \n",
       "  148.488,322.777 153.954,318.845 159.421,308.96 164.887,298.841 170.353,294.783 175.819,299.806 181.285,311.526 186.751,323.187 192.218,327.47 197.684,320.981 \n",
       "  203.15,306.724 208.616,292.867 214.082,288.208 219.548,296.78 225.015,314.804 230.481,332.073 235.947,337.46 241.413,325.679 246.879,301.426 252.345,278.07 \n",
       "  257.811,270.932 263.278,288.298 268.744,324.975 274.21,362.363 279.676,375.869 285.142,346.662 290.608,272.168 296.075,169.832 301.541,71.709 307.007,11.811 \n",
       "  312.473,11.811 317.939,71.709 323.405,169.832 328.872,272.168 334.338,346.662 339.804,375.869 345.27,362.363 350.736,324.975 356.202,288.298 361.669,270.932 \n",
       "  367.135,278.07 372.601,301.426 378.067,325.679 383.533,337.46 388.999,332.073 394.466,314.804 399.932,296.78 405.398,288.208 410.864,292.867 416.33,306.724 \n",
       "  421.796,320.981 427.262,327.47 432.729,323.187 438.195,311.526 443.661,299.806 449.127,294.783 454.593,298.841 460.059,308.96 465.526,318.845 470.992,322.777 \n",
       "  476.458,318.869 481.924,309.901 487.39,301.413 492.856,298.326 498.323,302.124 503.789,310.194 509.255,317.578 514.721,319.99 520.187,316.278 525.653,308.934 \n",
       "  531.12,302.448 536.586,300.59 542.052,304.229 547.518,310.971 552.984,316.706 558.45,318.103 563.916,314.528 569.383,308.298 574.849,303.2 580.315,302.195 \n",
       "  \n",
       "  \"/>\n",
       "<polygon clip-path=\"url(#clip2400)\" points=\"\n",
       "489.608,62.931 562.315,62.931 562.315,32.691 489.608,32.691 \n",
       "  \" fill=\"#ffffff\" fill-opacity=\"1\"/>\n",
       "<polyline clip-path=\"url(#clip2400)\" style=\"stroke:#000000; stroke-width:1; stroke-opacity:1; fill:none\" points=\"\n",
       "  489.608,62.931 562.315,62.931 562.315,32.691 489.608,32.691 489.608,62.931 \n",
       "  \"/>\n",
       "<polyline clip-path=\"url(#clip2400)\" style=\"stroke:#009af9; stroke-width:1; stroke-opacity:1; fill:none\" points=\"\n",
       "  495.608,47.811 531.608,47.811 \n",
       "  \"/>\n",
       "<g clip-path=\"url(#clip2400)\">\n",
       "<text style=\"fill:#000000; fill-opacity:1; font-family:Arial,Helvetica Neue,Helvetica,sans-serif; font-size:12; text-anchor:start;\" transform=\"rotate(0, 537.608, 52.311)\" x=\"537.608\" y=\"52.311\">y1</text>\n",
       "</g>\n",
       "</svg>\n"
      ]
     },
     "execution_count": 3,
     "metadata": {},
     "output_type": "execute_result"
    }
   ],
   "source": [
    "using Plots\n",
    "x = linspace(-4*π, 4*π, 100)\n",
    "plot(x,f.(x))"
   ]
  },
  {
   "cell_type": "code",
   "execution_count": null,
   "metadata": {},
   "outputs": [],
   "source": []
  }
 ],
 "metadata": {
  "kernelspec": {
   "display_name": "Julia 0.6.2",
   "language": "julia",
   "name": "julia-0.6"
  },
  "language_info": {
   "file_extension": ".jl",
   "mimetype": "application/julia",
   "name": "julia",
   "version": "0.6.2"
  }
 },
 "nbformat": 4,
 "nbformat_minor": 2
}
