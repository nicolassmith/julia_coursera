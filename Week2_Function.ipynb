{
 "cells": [
  {
   "cell_type": "markdown",
   "metadata": {},
   "source": [
    "## The Sinc Function"
   ]
  },
  {
   "cell_type": "code",
   "execution_count": 1,
   "metadata": {},
   "outputs": [
    {
     "data": {
      "text/plain": [
       "f (generic function with 1 method)"
      ]
     },
     "execution_count": 1,
     "metadata": {},
     "output_type": "execute_result"
    }
   ],
   "source": [
    "f(x) = x!=0 ? sin(π*x)/(π*x) : 1"
   ]
  },
  {
   "cell_type": "markdown",
   "metadata": {},
   "source": [
    "The sinc is the fourier twin of the rectange. It is defined as\n",
    "\n",
    "$$ sinc(x) = \\sin(\\pi x)/ (\\pi x) $$\n",
    "\n",
    "Except when $x=0$, then $sinc(0) = 1$."
   ]
  },
  {
   "cell_type": "code",
   "execution_count": 2,
   "metadata": {},
   "outputs": [
    {
     "name": "stdout",
     "output_type": "stream",
     "text": [
      "for x=0.0, sinc(x)=1\n",
      "for x=0.6981317007977318, sinc(x)=0.3704341512443177\n",
      "for x=1.3962634015954636, sinc(x)=-0.21597299417522203\n",
      "for x=2.0943951023931953, sinc(x)=0.04441264057156851\n",
      "for x=2.792526803190927, sinc(x)=0.06914586536703572\n",
      "for x=3.490658503988659, sinc(x)=-0.09114979949990644\n",
      "for x=4.1887902047863905, sinc(x)=0.042474031732038904\n",
      "for x=4.886921905584122, sinc(x)=0.02265529598465284\n",
      "for x=5.585053606381854, sinc(x)=-0.054970647390542894\n",
      "for x=6.283185307179586, sinc(x)=0.03935584386392389\n"
     ]
    }
   ],
   "source": [
    "for x = linspace(0,2*π,10)\n",
    "    println(\"for x=$(x), sinc(x)=$(f(x))\")\n",
    "end"
   ]
  },
  {
   "cell_type": "code",
   "execution_count": null,
   "metadata": {},
   "outputs": [
    {
     "name": "stderr",
     "output_type": "stream",
     "text": [
      "\u001b[1m\u001b[36mINFO: \u001b[39m\u001b[22m\u001b[36mRecompiling stale cache file /home/nicolas/.julia/lib/v0.6/PyCall.ji for module PyCall.\n",
      "\u001b[39m\u001b[1m\u001b[36mINFO: \u001b[39m\u001b[22m\u001b[36mRecompiling stale cache file /home/nicolas/.julia/lib/v0.6/PyPlot.ji for module PyPlot.\n",
      "\u001b[39m\u001b[1m\u001b[36mINFO: \u001b[39m\u001b[22m\u001b[36mInstalling matplotlib via the Conda matplotlib package...\n",
      "\u001b[39m"
     ]
    },
    {
     "name": "stdout",
     "output_type": "stream",
     "text": [
      "Solving environment: ...working... "
     ]
    }
   ],
   "source": [
    "using Plots\n",
    "x = linspace(-4*π, 4*π, 100)\n",
    "plot(x,f.(x))"
   ]
  },
  {
   "cell_type": "code",
   "execution_count": null,
   "metadata": {},
   "outputs": [],
   "source": [
    "1"
   ]
  }
 ],
 "metadata": {
  "kernelspec": {
   "display_name": "Julia 0.6.2",
   "language": "julia",
   "name": "julia-0.6"
  },
  "language_info": {
   "file_extension": ".jl",
   "mimetype": "application/julia",
   "name": "julia",
   "version": "0.6.2"
  }
 },
 "nbformat": 4,
 "nbformat_minor": 2
}
